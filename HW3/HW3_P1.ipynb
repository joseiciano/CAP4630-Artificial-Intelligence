{
  "nbformat": 4,
  "nbformat_minor": 0,
  "metadata": {
    "colab": {
      "name": "HW3 P1.ipynb",
      "provenance": [],
      "collapsed_sections": []
    },
    "kernelspec": {
      "name": "python3",
      "display_name": "Python 3"
    }
  },
  "cells": [
    {
      "cell_type": "code",
      "metadata": {
        "id": "pJd90kRZ9Fl6",
        "colab_type": "code",
        "colab": {}
      },
      "source": [
        "import math\n",
        "import random\n",
        "import numpy as np\n",
        "import matplotlib.pyplot as plt"
      ],
      "execution_count": 0,
      "outputs": []
    },
    {
      "cell_type": "markdown",
      "metadata": {
        "id": "SiFXVu1RPjPe",
        "colab_type": "text"
      },
      "source": [
        "This function will create an (m x 2)-sized array called data that holds (x, y) values for our model. It also creates an (m x 1)-sized array that holds the label information for each respective row in data."
      ]
    },
    {
      "cell_type": "code",
      "metadata": {
        "id": "thIO0Z2F-JA3",
        "colab_type": "code",
        "colab": {}
      },
      "source": [
        "def get_random_data(w, b, mu, sigma, m):\n",
        "  data = np.zeros((m, 2))\n",
        "  labels = np.zeros((m, 1))\n",
        "  for i in range(m):\n",
        "    c = random.randint(0, 1)\n",
        "\n",
        "    # First feature, x_1 is chosen uniformly at random within this interval\n",
        "    x_1 = np.random.uniform(0, 1)\n",
        "\n",
        "    # Get the \"noise\" that will be used to get our second feature, x_2\n",
        "    n = np.random.normal(mu, sigma)\n",
        "\n",
        "    # Get second feature, x_2 \n",
        "    x_2 = w * x_1 + b + math.pow(-1, c) * n\n",
        "\n",
        "    # Row i of data consists of (x_1, x_2)\n",
        "    # Row i of vector labels consists of our label for this set of data, c\n",
        "    data[i][0] = x_1\n",
        "    data[i][1] = x_2\n",
        "    labels[i] = c\n",
        "\n",
        "  # print(data)\n",
        "\n",
        "  return data, labels"
      ],
      "execution_count": 0,
      "outputs": []
    },
    {
      "cell_type": "markdown",
      "metadata": {
        "id": "yQWapu0VQAPy",
        "colab_type": "text"
      },
      "source": [
        "This function graphs the data made in get_random_data(), as well as the function y = w * x + b"
      ]
    },
    {
      "cell_type": "code",
      "metadata": {
        "id": "C3jU6_I-cV7B",
        "colab_type": "code",
        "colab": {}
      },
      "source": [
        "def display_random_data(labels, data, w,  b):\n",
        "  plt.style.use('seaborn')\n",
        "\n",
        "  zerosX = []\n",
        "  zerosY = []\n",
        "  onesX = []\n",
        "  onesY = []\n",
        "  # Separate the two labels into different lists based on if they were 0 or 1\n",
        "  for i in range(len(labels)):\n",
        "    if labels[i] == 0:\n",
        "      zerosX.append(data[i][0])\n",
        "      zerosY.append(data[i][1])\n",
        "    else:\n",
        "      onesX.append(data[i][0])\n",
        "      onesY.append(data[i][1])\n",
        "\n",
        "  # Plot the scatterplots\n",
        "  plt.scatter(zerosX, zerosY, label='0', c=\"blue\", edgecolor=\"black\", linewidth=1, alpha=0.75)\n",
        "  plt.scatter(onesX, onesY, label='1', c=\"red\", edgecolor=\"black\", linewidth=1, alpha=0.75)\n",
        "  plt.xlabel(\"x\")\n",
        "  plt.ylabel(\"y\")\n",
        "  plt.title(\"Randomly Generated Data\")\n",
        "\n",
        "  # Plot the function y = m * w + b\n",
        "  # print(data[:,0])\n",
        "  \n",
        "  y = w * data[:,0] + b\n",
        "  plt.plot(data[:,0], y)\n",
        "\n",
        "  plt.show()\n"
      ],
      "execution_count": 0,
      "outputs": []
    },
    {
      "cell_type": "markdown",
      "metadata": {
        "id": "qFy7ineRPNPb",
        "colab_type": "text"
      },
      "source": [
        "Create the initial values for (w, b, mu, sigma, m) that will be used for our model and gather the respective data values. Also, let's create our training and validation sets, which will be 80% and 20% of our data. "
      ]
    },
    {
      "cell_type": "code",
      "metadata": {
        "id": "dPH4p1G8HYha",
        "colab_type": "code",
        "colab": {}
      },
      "source": [
        "w = 0.5\n",
        "b = 0.1\n",
        "mu = 0.01\n",
        "sigma = 0.001\n",
        "m = 10000\n",
        "\n",
        "data, labels = get_random_data(w, b, mu, sigma, m)\n",
        "display_random_data(labels, data, w, b)\n",
        "\n",
        "# Get that 80-20 split index\n",
        "data_split = int(80/100 * m)\n",
        "\n",
        "# Now get the data itself\n",
        "train_data, test_data = data[:data_split], data[data_split:]\n",
        "# print(train_data)\n",
        "# print(test_data)\n",
        "\n",
        "\n"
      ],
      "execution_count": 0,
      "outputs": []
    }
  ]
}