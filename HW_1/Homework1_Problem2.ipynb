{
  "nbformat": 4,
  "nbformat_minor": 0,
  "metadata": {
    "colab": {
      "name": "Homework1 Problem2",
      "provenance": []
    },
    "kernelspec": {
      "name": "python3",
      "display_name": "Python 3"
    }
  },
  "cells": [
    {
      "cell_type": "markdown",
      "metadata": {
        "id": "pZeybvW_LU1-",
        "colab_type": "text"
      },
      "source": [
        "# Homework 1: Problem 2\n",
        "\n",
        "Outputs the product of a list of numpy arrays. If we cannot take the product of two matrices, prints out their dimensions. \n"
      ]
    },
    {
      "cell_type": "code",
      "metadata": {
        "id": "pye3FvgUI15l",
        "colab_type": "code",
        "colab": {}
      },
      "source": [
        "import numpy as np"
      ],
      "execution_count": 0,
      "outputs": []
    },
    {
      "cell_type": "markdown",
      "metadata": {
        "id": "xtYD4DttnVGt",
        "colab_type": "text"
      },
      "source": [
        "Matrix multiplication between two matrices, A and B, is only possible if A is a (M x N) dimensional matrix and B is a (N x K) dimensional matrix, where M, N, and K are any positive number."
      ]
    },
    {
      "cell_type": "markdown",
      "metadata": {
        "id": "NxL6svEzRkQn",
        "colab_type": "text"
      },
      "source": [
        "Example:  \n",
        "Let A =  \n",
        "$[1, 2, 3]$    \n",
        "$[4, 5, 6]$  \n",
        "$[7, 8, 9]$\n",
        "\n",
        "Let B =   \n",
        "$[4]$  \n",
        "$[1]$\n",
        "\n",
        "A*B would not be possible since A is a (3 x 3) matrix and B is a (2 x 1) Matrix. \n",
        "\n",
        "Example:  \n",
        "Let A =  \n",
        "$[1, 2, 3]$    \n",
        "$[4, 5, 6]$  \n",
        "$[7, 8, 9]$\n",
        "\n",
        "Let B =   \n",
        "$[1, 2]$    \n",
        "$[4, 1]$  \n",
        "$[7, 8]$\n",
        "\n",
        "A * B is possible since A is a (3 x 3) matrix and B is a (3 x 2) matrix\n",
        "\n",
        "\n",
        "Also, note that matrix multiplication is not commutative since it relies on matrix dimensions. Thus, A * B is not the same as B * A\n"
      ]
    },
    {
      "cell_type": "code",
      "metadata": {
        "id": "edtdlncBLxuW",
        "colab_type": "code",
        "colab": {}
      },
      "source": [
        "def multiply_matrices(matrices):\n",
        "  for i in range(len(matrices)):\n",
        "    for j in range(len(matrices)):\n",
        "      if i != j:\n",
        "        try:\n",
        "          print(np.matmul(matrices[i], matrices[j]))\n",
        "        except:\n",
        "          print(f\"Cannot multiply matrices with dimensions {matrices[i].shape} and {matrices[j].shape}\")"
      ],
      "execution_count": 0,
      "outputs": []
    },
    {
      "cell_type": "code",
      "metadata": {
        "id": "xC0m0lrYpoqg",
        "colab_type": "code",
        "colab": {}
      },
      "source": [
        ""
      ],
      "execution_count": 0,
      "outputs": []
    }
  ]
}