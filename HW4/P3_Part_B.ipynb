{
  "nbformat": 4,
  "nbformat_minor": 0,
  "metadata": {
    "colab": {
      "name": "P3_Part_B.ipynb",
      "provenance": []
    },
    "kernelspec": {
      "name": "python3",
      "display_name": "Python 3"
    },
    "accelerator": "GPU"
  },
  "cells": [
    {
      "cell_type": "markdown",
      "metadata": {
        "id": "t9ImRl_D2DK3",
        "colab_type": "text"
      },
      "source": [
        "### Problem 3:\n",
        "\n",
        "This is my second adaption of the notebook provided here: \n",
        "\n",
        "https://colab.research.google.com/drive/1F-RWvoxH8MmT7c1UmNy41iuOp-ejiLoF#scrollTo=KSrgMJ5vKFzQ&forceEdit=true&sandboxMode=true.\n",
        "\n"
      ]
    },
    {
      "cell_type": "markdown",
      "metadata": {
        "id": "KSrgMJ5vKFzQ",
        "colab_type": "text"
      },
      "source": [
        "# Fine-tuning VGG16 "
      ]
    },
    {
      "cell_type": "markdown",
      "metadata": {
        "id": "TIW7bZaAK-Hf",
        "colab_type": "text"
      },
      "source": [
        "This is based on section 5.3 *Using a pretrained convnet* of the book *Deep learning with Python* by Francois Chollet. I have made several changes to the code. I use the data that is already provided by Google. I don't download the data from Kaggle as in the deep learning book."
      ]
    },
    {
      "cell_type": "markdown",
      "metadata": {
        "id": "nsBq__dVo2pj",
        "colab_type": "text"
      },
      "source": [
        "## Feature extraction"
      ]
    },
    {
      "cell_type": "markdown",
      "metadata": {
        "id": "0g6ETAM9o54M",
        "colab_type": "text"
      },
      "source": [
        "Feature extraction consists of using the representations learned by a previous network to extract interesting features from new samples. These features are then run through a new classifier, which is trained from scratch.\n",
        "\n",
        "We will use here the convolutional base of the VGG16 model to extract the features. We will feed these features to a densely connected classifier with dropout. We will fine-tune some layers."
      ]
    },
    {
      "cell_type": "markdown",
      "metadata": {
        "id": "BqIG8QHMLNOn",
        "colab_type": "text"
      },
      "source": [
        "## Download the data"
      ]
    },
    {
      "cell_type": "markdown",
      "metadata": {
        "id": "t3I1jd7cKV6_",
        "colab_type": "text"
      },
      "source": [
        "Download the example data, a zip. of 2,000 JPG pictures of cats and dogs and extract it locally in ```/tmp```.\n",
        "\n"
      ]
    },
    {
      "cell_type": "code",
      "metadata": {
        "id": "JWjprHEXJ5Qi",
        "colab_type": "code",
        "outputId": "0e624cf2-dd23-4cb4-8677-3918ed726eb2",
        "colab": {
          "base_uri": "https://localhost:8080/",
          "height": 217
        }
      },
      "source": [
        "!wget --no-check-certificate \\\n",
        "    https://storage.googleapis.com/mledu-datasets/cats_and_dogs_filtered.zip \\\n",
        "    -O /tmp/cats_and_dogs_filtered.zip"
      ],
      "execution_count": 1,
      "outputs": [
        {
          "output_type": "stream",
          "text": [
            "--2020-04-21 19:44:39--  https://storage.googleapis.com/mledu-datasets/cats_and_dogs_filtered.zip\n",
            "Resolving storage.googleapis.com (storage.googleapis.com)... 74.125.204.128, 2404:6800:4008:c01::80\n",
            "Connecting to storage.googleapis.com (storage.googleapis.com)|74.125.204.128|:443... connected.\n",
            "HTTP request sent, awaiting response... 200 OK\n",
            "Length: 68606236 (65M) [application/zip]\n",
            "Saving to: ‘/tmp/cats_and_dogs_filtered.zip’\n",
            "\n",
            "/tmp/cats_and_dogs_ 100%[===================>]  65.43M  71.4MB/s    in 0.9s    \n",
            "\n",
            "2020-04-21 19:44:40 (71.4 MB/s) - ‘/tmp/cats_and_dogs_filtered.zip’ saved [68606236/68606236]\n",
            "\n"
          ],
          "name": "stdout"
        }
      ]
    },
    {
      "cell_type": "code",
      "metadata": {
        "id": "WvoHtdA-K6Rw",
        "colab_type": "code",
        "colab": {}
      },
      "source": [
        "import os\n",
        "import zipfile\n",
        "\n",
        "local_zip = '/tmp/cats_and_dogs_filtered.zip'\n",
        "zip_ref = zipfile.ZipFile(local_zip, 'r')\n",
        "zip_ref.extractall('/tmp')\n",
        "zip_ref.close()"
      ],
      "execution_count": 0,
      "outputs": []
    },
    {
      "cell_type": "markdown",
      "metadata": {
        "id": "shZiOBnJMyy_",
        "colab_type": "text"
      },
      "source": [
        "Note that the data provided by Google does not have a test set."
      ]
    },
    {
      "cell_type": "code",
      "metadata": {
        "id": "dL8ikM89LlsH",
        "colab_type": "code",
        "colab": {}
      },
      "source": [
        "base_dir = '/tmp/cats_and_dogs_filtered'\n",
        "train_dir = os.path.join(base_dir, 'train')\n",
        "validation_dir = os.path.join(base_dir, 'validation')\n",
        "\n",
        "# Directory with our training cat pictures\n",
        "train_cats_dir = os.path.join(train_dir, 'cats')\n",
        "\n",
        "# Directory with our training dog pictures\n",
        "train_dogs_dir = os.path.join(train_dir, 'dogs')\n",
        "\n",
        "# Directory with our validation cat pictures\n",
        "validation_cats_dir = os.path.join(validation_dir, 'cats')\n",
        "\n",
        "# Directory with our validation dog pictures\n",
        "validation_dogs_dir = os.path.join(validation_dir, 'dogs')"
      ],
      "execution_count": 0,
      "outputs": []
    },
    {
      "cell_type": "markdown",
      "metadata": {
        "id": "inyP8bcdXnn-",
        "colab_type": "text"
      },
      "source": [
        "## Build network with Xception convolution base and custom densely connected layers"
      ]
    },
    {
      "cell_type": "markdown",
      "metadata": {
        "id": "kQ48W5T9rHWu",
        "colab_type": "text"
      },
      "source": [
        "### Load the convolutional base"
      ]
    },
    {
      "cell_type": "code",
      "metadata": {
        "id": "Y0FgtANCXm_H",
        "colab_type": "code",
        "outputId": "1e651b92-27ac-4061-bfe0-d645494e1772",
        "colab": {
          "base_uri": "https://localhost:8080/",
          "height": 1000
        }
      },
      "source": [
        "from keras.applications import Xception\n",
        "\n",
        "conv_base = Xception(\n",
        "    weights='imagenet', \n",
        "    include_top=False, \n",
        "    input_shape=(150, 150, 3))\n",
        "\n",
        "conv_base.summary()"
      ],
      "execution_count": 4,
      "outputs": [
        {
          "output_type": "stream",
          "text": [
            "Using TensorFlow backend.\n"
          ],
          "name": "stderr"
        },
        {
          "output_type": "stream",
          "text": [
            "Downloading data from https://github.com/fchollet/deep-learning-models/releases/download/v0.4/xception_weights_tf_dim_ordering_tf_kernels_notop.h5\n",
            "83689472/83683744 [==============================] - 6s 0us/step\n",
            "Model: \"xception\"\n",
            "__________________________________________________________________________________________________\n",
            "Layer (type)                    Output Shape         Param #     Connected to                     \n",
            "==================================================================================================\n",
            "input_1 (InputLayer)            (None, 150, 150, 3)  0                                            \n",
            "__________________________________________________________________________________________________\n",
            "block1_conv1 (Conv2D)           (None, 74, 74, 32)   864         input_1[0][0]                    \n",
            "__________________________________________________________________________________________________\n",
            "block1_conv1_bn (BatchNormaliza (None, 74, 74, 32)   128         block1_conv1[0][0]               \n",
            "__________________________________________________________________________________________________\n",
            "block1_conv1_act (Activation)   (None, 74, 74, 32)   0           block1_conv1_bn[0][0]            \n",
            "__________________________________________________________________________________________________\n",
            "block1_conv2 (Conv2D)           (None, 72, 72, 64)   18432       block1_conv1_act[0][0]           \n",
            "__________________________________________________________________________________________________\n",
            "block1_conv2_bn (BatchNormaliza (None, 72, 72, 64)   256         block1_conv2[0][0]               \n",
            "__________________________________________________________________________________________________\n",
            "block1_conv2_act (Activation)   (None, 72, 72, 64)   0           block1_conv2_bn[0][0]            \n",
            "__________________________________________________________________________________________________\n",
            "block2_sepconv1 (SeparableConv2 (None, 72, 72, 128)  8768        block1_conv2_act[0][0]           \n",
            "__________________________________________________________________________________________________\n",
            "block2_sepconv1_bn (BatchNormal (None, 72, 72, 128)  512         block2_sepconv1[0][0]            \n",
            "__________________________________________________________________________________________________\n",
            "block2_sepconv2_act (Activation (None, 72, 72, 128)  0           block2_sepconv1_bn[0][0]         \n",
            "__________________________________________________________________________________________________\n",
            "block2_sepconv2 (SeparableConv2 (None, 72, 72, 128)  17536       block2_sepconv2_act[0][0]        \n",
            "__________________________________________________________________________________________________\n",
            "block2_sepconv2_bn (BatchNormal (None, 72, 72, 128)  512         block2_sepconv2[0][0]            \n",
            "__________________________________________________________________________________________________\n",
            "conv2d_1 (Conv2D)               (None, 36, 36, 128)  8192        block1_conv2_act[0][0]           \n",
            "__________________________________________________________________________________________________\n",
            "block2_pool (MaxPooling2D)      (None, 36, 36, 128)  0           block2_sepconv2_bn[0][0]         \n",
            "__________________________________________________________________________________________________\n",
            "batch_normalization_1 (BatchNor (None, 36, 36, 128)  512         conv2d_1[0][0]                   \n",
            "__________________________________________________________________________________________________\n",
            "add_1 (Add)                     (None, 36, 36, 128)  0           block2_pool[0][0]                \n",
            "                                                                 batch_normalization_1[0][0]      \n",
            "__________________________________________________________________________________________________\n",
            "block3_sepconv1_act (Activation (None, 36, 36, 128)  0           add_1[0][0]                      \n",
            "__________________________________________________________________________________________________\n",
            "block3_sepconv1 (SeparableConv2 (None, 36, 36, 256)  33920       block3_sepconv1_act[0][0]        \n",
            "__________________________________________________________________________________________________\n",
            "block3_sepconv1_bn (BatchNormal (None, 36, 36, 256)  1024        block3_sepconv1[0][0]            \n",
            "__________________________________________________________________________________________________\n",
            "block3_sepconv2_act (Activation (None, 36, 36, 256)  0           block3_sepconv1_bn[0][0]         \n",
            "__________________________________________________________________________________________________\n",
            "block3_sepconv2 (SeparableConv2 (None, 36, 36, 256)  67840       block3_sepconv2_act[0][0]        \n",
            "__________________________________________________________________________________________________\n",
            "block3_sepconv2_bn (BatchNormal (None, 36, 36, 256)  1024        block3_sepconv2[0][0]            \n",
            "__________________________________________________________________________________________________\n",
            "conv2d_2 (Conv2D)               (None, 18, 18, 256)  32768       add_1[0][0]                      \n",
            "__________________________________________________________________________________________________\n",
            "block3_pool (MaxPooling2D)      (None, 18, 18, 256)  0           block3_sepconv2_bn[0][0]         \n",
            "__________________________________________________________________________________________________\n",
            "batch_normalization_2 (BatchNor (None, 18, 18, 256)  1024        conv2d_2[0][0]                   \n",
            "__________________________________________________________________________________________________\n",
            "add_2 (Add)                     (None, 18, 18, 256)  0           block3_pool[0][0]                \n",
            "                                                                 batch_normalization_2[0][0]      \n",
            "__________________________________________________________________________________________________\n",
            "block4_sepconv1_act (Activation (None, 18, 18, 256)  0           add_2[0][0]                      \n",
            "__________________________________________________________________________________________________\n",
            "block4_sepconv1 (SeparableConv2 (None, 18, 18, 728)  188672      block4_sepconv1_act[0][0]        \n",
            "__________________________________________________________________________________________________\n",
            "block4_sepconv1_bn (BatchNormal (None, 18, 18, 728)  2912        block4_sepconv1[0][0]            \n",
            "__________________________________________________________________________________________________\n",
            "block4_sepconv2_act (Activation (None, 18, 18, 728)  0           block4_sepconv1_bn[0][0]         \n",
            "__________________________________________________________________________________________________\n",
            "block4_sepconv2 (SeparableConv2 (None, 18, 18, 728)  536536      block4_sepconv2_act[0][0]        \n",
            "__________________________________________________________________________________________________\n",
            "block4_sepconv2_bn (BatchNormal (None, 18, 18, 728)  2912        block4_sepconv2[0][0]            \n",
            "__________________________________________________________________________________________________\n",
            "conv2d_3 (Conv2D)               (None, 9, 9, 728)    186368      add_2[0][0]                      \n",
            "__________________________________________________________________________________________________\n",
            "block4_pool (MaxPooling2D)      (None, 9, 9, 728)    0           block4_sepconv2_bn[0][0]         \n",
            "__________________________________________________________________________________________________\n",
            "batch_normalization_3 (BatchNor (None, 9, 9, 728)    2912        conv2d_3[0][0]                   \n",
            "__________________________________________________________________________________________________\n",
            "add_3 (Add)                     (None, 9, 9, 728)    0           block4_pool[0][0]                \n",
            "                                                                 batch_normalization_3[0][0]      \n",
            "__________________________________________________________________________________________________\n",
            "block5_sepconv1_act (Activation (None, 9, 9, 728)    0           add_3[0][0]                      \n",
            "__________________________________________________________________________________________________\n",
            "block5_sepconv1 (SeparableConv2 (None, 9, 9, 728)    536536      block5_sepconv1_act[0][0]        \n",
            "__________________________________________________________________________________________________\n",
            "block5_sepconv1_bn (BatchNormal (None, 9, 9, 728)    2912        block5_sepconv1[0][0]            \n",
            "__________________________________________________________________________________________________\n",
            "block5_sepconv2_act (Activation (None, 9, 9, 728)    0           block5_sepconv1_bn[0][0]         \n",
            "__________________________________________________________________________________________________\n",
            "block5_sepconv2 (SeparableConv2 (None, 9, 9, 728)    536536      block5_sepconv2_act[0][0]        \n",
            "__________________________________________________________________________________________________\n",
            "block5_sepconv2_bn (BatchNormal (None, 9, 9, 728)    2912        block5_sepconv2[0][0]            \n",
            "__________________________________________________________________________________________________\n",
            "block5_sepconv3_act (Activation (None, 9, 9, 728)    0           block5_sepconv2_bn[0][0]         \n",
            "__________________________________________________________________________________________________\n",
            "block5_sepconv3 (SeparableConv2 (None, 9, 9, 728)    536536      block5_sepconv3_act[0][0]        \n",
            "__________________________________________________________________________________________________\n",
            "block5_sepconv3_bn (BatchNormal (None, 9, 9, 728)    2912        block5_sepconv3[0][0]            \n",
            "__________________________________________________________________________________________________\n",
            "add_4 (Add)                     (None, 9, 9, 728)    0           block5_sepconv3_bn[0][0]         \n",
            "                                                                 add_3[0][0]                      \n",
            "__________________________________________________________________________________________________\n",
            "block6_sepconv1_act (Activation (None, 9, 9, 728)    0           add_4[0][0]                      \n",
            "__________________________________________________________________________________________________\n",
            "block6_sepconv1 (SeparableConv2 (None, 9, 9, 728)    536536      block6_sepconv1_act[0][0]        \n",
            "__________________________________________________________________________________________________\n",
            "block6_sepconv1_bn (BatchNormal (None, 9, 9, 728)    2912        block6_sepconv1[0][0]            \n",
            "__________________________________________________________________________________________________\n",
            "block6_sepconv2_act (Activation (None, 9, 9, 728)    0           block6_sepconv1_bn[0][0]         \n",
            "__________________________________________________________________________________________________\n",
            "block6_sepconv2 (SeparableConv2 (None, 9, 9, 728)    536536      block6_sepconv2_act[0][0]        \n",
            "__________________________________________________________________________________________________\n",
            "block6_sepconv2_bn (BatchNormal (None, 9, 9, 728)    2912        block6_sepconv2[0][0]            \n",
            "__________________________________________________________________________________________________\n",
            "block6_sepconv3_act (Activation (None, 9, 9, 728)    0           block6_sepconv2_bn[0][0]         \n",
            "__________________________________________________________________________________________________\n",
            "block6_sepconv3 (SeparableConv2 (None, 9, 9, 728)    536536      block6_sepconv3_act[0][0]        \n",
            "__________________________________________________________________________________________________\n",
            "block6_sepconv3_bn (BatchNormal (None, 9, 9, 728)    2912        block6_sepconv3[0][0]            \n",
            "__________________________________________________________________________________________________\n",
            "add_5 (Add)                     (None, 9, 9, 728)    0           block6_sepconv3_bn[0][0]         \n",
            "                                                                 add_4[0][0]                      \n",
            "__________________________________________________________________________________________________\n",
            "block7_sepconv1_act (Activation (None, 9, 9, 728)    0           add_5[0][0]                      \n",
            "__________________________________________________________________________________________________\n",
            "block7_sepconv1 (SeparableConv2 (None, 9, 9, 728)    536536      block7_sepconv1_act[0][0]        \n",
            "__________________________________________________________________________________________________\n",
            "block7_sepconv1_bn (BatchNormal (None, 9, 9, 728)    2912        block7_sepconv1[0][0]            \n",
            "__________________________________________________________________________________________________\n",
            "block7_sepconv2_act (Activation (None, 9, 9, 728)    0           block7_sepconv1_bn[0][0]         \n",
            "__________________________________________________________________________________________________\n",
            "block7_sepconv2 (SeparableConv2 (None, 9, 9, 728)    536536      block7_sepconv2_act[0][0]        \n",
            "__________________________________________________________________________________________________\n",
            "block7_sepconv2_bn (BatchNormal (None, 9, 9, 728)    2912        block7_sepconv2[0][0]            \n",
            "__________________________________________________________________________________________________\n",
            "block7_sepconv3_act (Activation (None, 9, 9, 728)    0           block7_sepconv2_bn[0][0]         \n",
            "__________________________________________________________________________________________________\n",
            "block7_sepconv3 (SeparableConv2 (None, 9, 9, 728)    536536      block7_sepconv3_act[0][0]        \n",
            "__________________________________________________________________________________________________\n",
            "block7_sepconv3_bn (BatchNormal (None, 9, 9, 728)    2912        block7_sepconv3[0][0]            \n",
            "__________________________________________________________________________________________________\n",
            "add_6 (Add)                     (None, 9, 9, 728)    0           block7_sepconv3_bn[0][0]         \n",
            "                                                                 add_5[0][0]                      \n",
            "__________________________________________________________________________________________________\n",
            "block8_sepconv1_act (Activation (None, 9, 9, 728)    0           add_6[0][0]                      \n",
            "__________________________________________________________________________________________________\n",
            "block8_sepconv1 (SeparableConv2 (None, 9, 9, 728)    536536      block8_sepconv1_act[0][0]        \n",
            "__________________________________________________________________________________________________\n",
            "block8_sepconv1_bn (BatchNormal (None, 9, 9, 728)    2912        block8_sepconv1[0][0]            \n",
            "__________________________________________________________________________________________________\n",
            "block8_sepconv2_act (Activation (None, 9, 9, 728)    0           block8_sepconv1_bn[0][0]         \n",
            "__________________________________________________________________________________________________\n",
            "block8_sepconv2 (SeparableConv2 (None, 9, 9, 728)    536536      block8_sepconv2_act[0][0]        \n",
            "__________________________________________________________________________________________________\n",
            "block8_sepconv2_bn (BatchNormal (None, 9, 9, 728)    2912        block8_sepconv2[0][0]            \n",
            "__________________________________________________________________________________________________\n",
            "block8_sepconv3_act (Activation (None, 9, 9, 728)    0           block8_sepconv2_bn[0][0]         \n",
            "__________________________________________________________________________________________________\n",
            "block8_sepconv3 (SeparableConv2 (None, 9, 9, 728)    536536      block8_sepconv3_act[0][0]        \n",
            "__________________________________________________________________________________________________\n",
            "block8_sepconv3_bn (BatchNormal (None, 9, 9, 728)    2912        block8_sepconv3[0][0]            \n",
            "__________________________________________________________________________________________________\n",
            "add_7 (Add)                     (None, 9, 9, 728)    0           block8_sepconv3_bn[0][0]         \n",
            "                                                                 add_6[0][0]                      \n",
            "__________________________________________________________________________________________________\n",
            "block9_sepconv1_act (Activation (None, 9, 9, 728)    0           add_7[0][0]                      \n",
            "__________________________________________________________________________________________________\n",
            "block9_sepconv1 (SeparableConv2 (None, 9, 9, 728)    536536      block9_sepconv1_act[0][0]        \n",
            "__________________________________________________________________________________________________\n",
            "block9_sepconv1_bn (BatchNormal (None, 9, 9, 728)    2912        block9_sepconv1[0][0]            \n",
            "__________________________________________________________________________________________________\n",
            "block9_sepconv2_act (Activation (None, 9, 9, 728)    0           block9_sepconv1_bn[0][0]         \n",
            "__________________________________________________________________________________________________\n",
            "block9_sepconv2 (SeparableConv2 (None, 9, 9, 728)    536536      block9_sepconv2_act[0][0]        \n",
            "__________________________________________________________________________________________________\n",
            "block9_sepconv2_bn (BatchNormal (None, 9, 9, 728)    2912        block9_sepconv2[0][0]            \n",
            "__________________________________________________________________________________________________\n",
            "block9_sepconv3_act (Activation (None, 9, 9, 728)    0           block9_sepconv2_bn[0][0]         \n",
            "__________________________________________________________________________________________________\n",
            "block9_sepconv3 (SeparableConv2 (None, 9, 9, 728)    536536      block9_sepconv3_act[0][0]        \n",
            "__________________________________________________________________________________________________\n",
            "block9_sepconv3_bn (BatchNormal (None, 9, 9, 728)    2912        block9_sepconv3[0][0]            \n",
            "__________________________________________________________________________________________________\n",
            "add_8 (Add)                     (None, 9, 9, 728)    0           block9_sepconv3_bn[0][0]         \n",
            "                                                                 add_7[0][0]                      \n",
            "__________________________________________________________________________________________________\n",
            "block10_sepconv1_act (Activatio (None, 9, 9, 728)    0           add_8[0][0]                      \n",
            "__________________________________________________________________________________________________\n",
            "block10_sepconv1 (SeparableConv (None, 9, 9, 728)    536536      block10_sepconv1_act[0][0]       \n",
            "__________________________________________________________________________________________________\n",
            "block10_sepconv1_bn (BatchNorma (None, 9, 9, 728)    2912        block10_sepconv1[0][0]           \n",
            "__________________________________________________________________________________________________\n",
            "block10_sepconv2_act (Activatio (None, 9, 9, 728)    0           block10_sepconv1_bn[0][0]        \n",
            "__________________________________________________________________________________________________\n",
            "block10_sepconv2 (SeparableConv (None, 9, 9, 728)    536536      block10_sepconv2_act[0][0]       \n",
            "__________________________________________________________________________________________________\n",
            "block10_sepconv2_bn (BatchNorma (None, 9, 9, 728)    2912        block10_sepconv2[0][0]           \n",
            "__________________________________________________________________________________________________\n",
            "block10_sepconv3_act (Activatio (None, 9, 9, 728)    0           block10_sepconv2_bn[0][0]        \n",
            "__________________________________________________________________________________________________\n",
            "block10_sepconv3 (SeparableConv (None, 9, 9, 728)    536536      block10_sepconv3_act[0][0]       \n",
            "__________________________________________________________________________________________________\n",
            "block10_sepconv3_bn (BatchNorma (None, 9, 9, 728)    2912        block10_sepconv3[0][0]           \n",
            "__________________________________________________________________________________________________\n",
            "add_9 (Add)                     (None, 9, 9, 728)    0           block10_sepconv3_bn[0][0]        \n",
            "                                                                 add_8[0][0]                      \n",
            "__________________________________________________________________________________________________\n",
            "block11_sepconv1_act (Activatio (None, 9, 9, 728)    0           add_9[0][0]                      \n",
            "__________________________________________________________________________________________________\n",
            "block11_sepconv1 (SeparableConv (None, 9, 9, 728)    536536      block11_sepconv1_act[0][0]       \n",
            "__________________________________________________________________________________________________\n",
            "block11_sepconv1_bn (BatchNorma (None, 9, 9, 728)    2912        block11_sepconv1[0][0]           \n",
            "__________________________________________________________________________________________________\n",
            "block11_sepconv2_act (Activatio (None, 9, 9, 728)    0           block11_sepconv1_bn[0][0]        \n",
            "__________________________________________________________________________________________________\n",
            "block11_sepconv2 (SeparableConv (None, 9, 9, 728)    536536      block11_sepconv2_act[0][0]       \n",
            "__________________________________________________________________________________________________\n",
            "block11_sepconv2_bn (BatchNorma (None, 9, 9, 728)    2912        block11_sepconv2[0][0]           \n",
            "__________________________________________________________________________________________________\n",
            "block11_sepconv3_act (Activatio (None, 9, 9, 728)    0           block11_sepconv2_bn[0][0]        \n",
            "__________________________________________________________________________________________________\n",
            "block11_sepconv3 (SeparableConv (None, 9, 9, 728)    536536      block11_sepconv3_act[0][0]       \n",
            "__________________________________________________________________________________________________\n",
            "block11_sepconv3_bn (BatchNorma (None, 9, 9, 728)    2912        block11_sepconv3[0][0]           \n",
            "__________________________________________________________________________________________________\n",
            "add_10 (Add)                    (None, 9, 9, 728)    0           block11_sepconv3_bn[0][0]        \n",
            "                                                                 add_9[0][0]                      \n",
            "__________________________________________________________________________________________________\n",
            "block12_sepconv1_act (Activatio (None, 9, 9, 728)    0           add_10[0][0]                     \n",
            "__________________________________________________________________________________________________\n",
            "block12_sepconv1 (SeparableConv (None, 9, 9, 728)    536536      block12_sepconv1_act[0][0]       \n",
            "__________________________________________________________________________________________________\n",
            "block12_sepconv1_bn (BatchNorma (None, 9, 9, 728)    2912        block12_sepconv1[0][0]           \n",
            "__________________________________________________________________________________________________\n",
            "block12_sepconv2_act (Activatio (None, 9, 9, 728)    0           block12_sepconv1_bn[0][0]        \n",
            "__________________________________________________________________________________________________\n",
            "block12_sepconv2 (SeparableConv (None, 9, 9, 728)    536536      block12_sepconv2_act[0][0]       \n",
            "__________________________________________________________________________________________________\n",
            "block12_sepconv2_bn (BatchNorma (None, 9, 9, 728)    2912        block12_sepconv2[0][0]           \n",
            "__________________________________________________________________________________________________\n",
            "block12_sepconv3_act (Activatio (None, 9, 9, 728)    0           block12_sepconv2_bn[0][0]        \n",
            "__________________________________________________________________________________________________\n",
            "block12_sepconv3 (SeparableConv (None, 9, 9, 728)    536536      block12_sepconv3_act[0][0]       \n",
            "__________________________________________________________________________________________________\n",
            "block12_sepconv3_bn (BatchNorma (None, 9, 9, 728)    2912        block12_sepconv3[0][0]           \n",
            "__________________________________________________________________________________________________\n",
            "add_11 (Add)                    (None, 9, 9, 728)    0           block12_sepconv3_bn[0][0]        \n",
            "                                                                 add_10[0][0]                     \n",
            "__________________________________________________________________________________________________\n",
            "block13_sepconv1_act (Activatio (None, 9, 9, 728)    0           add_11[0][0]                     \n",
            "__________________________________________________________________________________________________\n",
            "block13_sepconv1 (SeparableConv (None, 9, 9, 728)    536536      block13_sepconv1_act[0][0]       \n",
            "__________________________________________________________________________________________________\n",
            "block13_sepconv1_bn (BatchNorma (None, 9, 9, 728)    2912        block13_sepconv1[0][0]           \n",
            "__________________________________________________________________________________________________\n",
            "block13_sepconv2_act (Activatio (None, 9, 9, 728)    0           block13_sepconv1_bn[0][0]        \n",
            "__________________________________________________________________________________________________\n",
            "block13_sepconv2 (SeparableConv (None, 9, 9, 1024)   752024      block13_sepconv2_act[0][0]       \n",
            "__________________________________________________________________________________________________\n",
            "block13_sepconv2_bn (BatchNorma (None, 9, 9, 1024)   4096        block13_sepconv2[0][0]           \n",
            "__________________________________________________________________________________________________\n",
            "conv2d_4 (Conv2D)               (None, 5, 5, 1024)   745472      add_11[0][0]                     \n",
            "__________________________________________________________________________________________________\n",
            "block13_pool (MaxPooling2D)     (None, 5, 5, 1024)   0           block13_sepconv2_bn[0][0]        \n",
            "__________________________________________________________________________________________________\n",
            "batch_normalization_4 (BatchNor (None, 5, 5, 1024)   4096        conv2d_4[0][0]                   \n",
            "__________________________________________________________________________________________________\n",
            "add_12 (Add)                    (None, 5, 5, 1024)   0           block13_pool[0][0]               \n",
            "                                                                 batch_normalization_4[0][0]      \n",
            "__________________________________________________________________________________________________\n",
            "block14_sepconv1 (SeparableConv (None, 5, 5, 1536)   1582080     add_12[0][0]                     \n",
            "__________________________________________________________________________________________________\n",
            "block14_sepconv1_bn (BatchNorma (None, 5, 5, 1536)   6144        block14_sepconv1[0][0]           \n",
            "__________________________________________________________________________________________________\n",
            "block14_sepconv1_act (Activatio (None, 5, 5, 1536)   0           block14_sepconv1_bn[0][0]        \n",
            "__________________________________________________________________________________________________\n",
            "block14_sepconv2 (SeparableConv (None, 5, 5, 2048)   3159552     block14_sepconv1_act[0][0]       \n",
            "__________________________________________________________________________________________________\n",
            "block14_sepconv2_bn (BatchNorma (None, 5, 5, 2048)   8192        block14_sepconv2[0][0]           \n",
            "__________________________________________________________________________________________________\n",
            "block14_sepconv2_act (Activatio (None, 5, 5, 2048)   0           block14_sepconv2_bn[0][0]        \n",
            "==================================================================================================\n",
            "Total params: 20,861,480\n",
            "Trainable params: 20,806,952\n",
            "Non-trainable params: 54,528\n",
            "__________________________________________________________________________________________________\n"
          ],
          "name": "stdout"
        }
      ]
    },
    {
      "cell_type": "markdown",
      "metadata": {
        "id": "D6OBHOO9q1ou",
        "colab_type": "text"
      },
      "source": [
        "### Freeze the convolutional base"
      ]
    },
    {
      "cell_type": "code",
      "metadata": {
        "id": "UleRo4Dpq6Ld",
        "colab_type": "code",
        "colab": {}
      },
      "source": [
        "conv_base.trainable = False"
      ],
      "execution_count": 0,
      "outputs": []
    },
    {
      "cell_type": "markdown",
      "metadata": {
        "id": "Qfx6PqhPrb7Q",
        "colab_type": "text"
      },
      "source": [
        "### Concatenate the convolutional base and densely connected layers"
      ]
    },
    {
      "cell_type": "code",
      "metadata": {
        "id": "qUpmocDAO3xm",
        "colab_type": "code",
        "colab": {}
      },
      "source": [
        "from keras import layers\n",
        "from keras import models\n",
        "from keras import optimizers\n",
        "\n",
        "model = models.Sequential()\n",
        "model.add(conv_base)\n",
        "model.add(layers.Flatten())\n",
        "model.add(layers.Dense(256, activation='relu'))\n",
        "#model.add(layers.Dropout(0.1))\n",
        "model.add(layers.Dense(1, activation='sigmoid'))"
      ],
      "execution_count": 0,
      "outputs": []
    },
    {
      "cell_type": "code",
      "metadata": {
        "id": "Fh6gZSeAjF7c",
        "colab_type": "code",
        "outputId": "811e295a-8070-4714-bd77-b1a05aa03c5e",
        "colab": {
          "base_uri": "https://localhost:8080/",
          "height": 308
        }
      },
      "source": [
        "model.summary()"
      ],
      "execution_count": 7,
      "outputs": [
        {
          "output_type": "stream",
          "text": [
            "Model: \"sequential_1\"\n",
            "_________________________________________________________________\n",
            "Layer (type)                 Output Shape              Param #   \n",
            "=================================================================\n",
            "xception (Model)             (None, 5, 5, 2048)        20861480  \n",
            "_________________________________________________________________\n",
            "flatten_1 (Flatten)          (None, 51200)             0         \n",
            "_________________________________________________________________\n",
            "dense_1 (Dense)              (None, 256)               13107456  \n",
            "_________________________________________________________________\n",
            "dense_2 (Dense)              (None, 1)                 257       \n",
            "=================================================================\n",
            "Total params: 33,969,193\n",
            "Trainable params: 13,107,713\n",
            "Non-trainable params: 20,861,480\n",
            "_________________________________________________________________\n"
          ],
          "name": "stdout"
        }
      ]
    },
    {
      "cell_type": "markdown",
      "metadata": {
        "id": "eZjBiddhi5Qj",
        "colab_type": "text"
      },
      "source": [
        "## Train the model end to end with frozen convolutional base"
      ]
    },
    {
      "cell_type": "code",
      "metadata": {
        "id": "tfAQlC2Oi41L",
        "colab_type": "code",
        "outputId": "4ac2fc89-7e61-400d-e00a-cfd21d7f710f",
        "colab": {
          "base_uri": "https://localhost:8080/",
          "height": 1000
        }
      },
      "source": [
        "from keras.preprocessing.image import ImageDataGenerator\n",
        "from keras import optimizers\n",
        "\n",
        "# data augmentation\n",
        "\n",
        "train_datagen = ImageDataGenerator(\n",
        "    rescale=1./255, \n",
        "    rotation_range=40,\n",
        "    width_shift_range=0.2,\n",
        "    height_shift_range=0.2,\n",
        "    shear_range=0.2,\n",
        "    zoom_range=0.2,\n",
        "    horizontal_flip=True,\n",
        "    fill_mode='nearest'\n",
        ")\n",
        "\n",
        "train_generator = train_datagen.flow_from_directory(\n",
        "    train_dir,\n",
        "    target_size=(150, 150),\n",
        "    batch_size=20,\n",
        "    class_mode='binary')\n",
        "\n",
        "validation_datagen = ImageDataGenerator(rescale=1./255)\n",
        "\n",
        "validation_generator = validation_datagen.flow_from_directory(\n",
        "    validation_dir,\n",
        "    target_size=(150, 150),\n",
        "    batch_size=20,\n",
        "    class_mode='binary')\n",
        "\n",
        "# compile model\n",
        "\n",
        "model.compile(\n",
        "    loss='binary_crossentropy', \n",
        "    optimizer=optimizers.RMSprop(lr=2e-5), \n",
        "    metrics=['acc'])\n",
        "\n",
        "# train\n",
        "\n",
        "history = model.fit_generator(\n",
        "    train_generator,\n",
        "    steps_per_epoch=100,\n",
        "    epochs=30,\n",
        "    validation_data=validation_generator,\n",
        "    validation_steps=50\n",
        ")"
      ],
      "execution_count": 8,
      "outputs": [
        {
          "output_type": "stream",
          "text": [
            "Found 2000 images belonging to 2 classes.\n",
            "Found 1000 images belonging to 2 classes.\n",
            "Epoch 1/30\n",
            "100/100 [==============================] - 25s 255ms/step - loss: 0.4716 - acc: 0.7675 - val_loss: 0.2866 - val_acc: 0.9420\n",
            "Epoch 2/30\n",
            "100/100 [==============================] - 17s 169ms/step - loss: 0.3824 - acc: 0.8215 - val_loss: 0.1207 - val_acc: 0.9520\n",
            "Epoch 3/30\n",
            "100/100 [==============================] - 17s 168ms/step - loss: 0.3679 - acc: 0.8340 - val_loss: 0.2171 - val_acc: 0.9590\n",
            "Epoch 4/30\n",
            "100/100 [==============================] - 17s 169ms/step - loss: 0.3090 - acc: 0.8605 - val_loss: 0.0055 - val_acc: 0.9680\n",
            "Epoch 5/30\n",
            "100/100 [==============================] - 17s 168ms/step - loss: 0.3387 - acc: 0.8465 - val_loss: 0.0111 - val_acc: 0.9710\n",
            "Epoch 6/30\n",
            "100/100 [==============================] - 17s 168ms/step - loss: 0.3475 - acc: 0.8385 - val_loss: 0.2770 - val_acc: 0.9670\n",
            "Epoch 7/30\n",
            "100/100 [==============================] - 17s 170ms/step - loss: 0.3228 - acc: 0.8545 - val_loss: 0.2911 - val_acc: 0.9530\n",
            "Epoch 8/30\n",
            "100/100 [==============================] - 17s 168ms/step - loss: 0.3060 - acc: 0.8660 - val_loss: 7.3622e-04 - val_acc: 0.9610\n",
            "Epoch 9/30\n",
            "100/100 [==============================] - 17s 168ms/step - loss: 0.3060 - acc: 0.8610 - val_loss: 0.0089 - val_acc: 0.9590\n",
            "Epoch 10/30\n",
            "100/100 [==============================] - 17s 170ms/step - loss: 0.3062 - acc: 0.8670 - val_loss: 0.3844 - val_acc: 0.9680\n",
            "Epoch 11/30\n",
            "100/100 [==============================] - 17s 168ms/step - loss: 0.2949 - acc: 0.8685 - val_loss: 0.0205 - val_acc: 0.9730\n",
            "Epoch 12/30\n",
            "100/100 [==============================] - 17s 169ms/step - loss: 0.2757 - acc: 0.8820 - val_loss: 0.2805 - val_acc: 0.9460\n",
            "Epoch 13/30\n",
            "100/100 [==============================] - 17s 169ms/step - loss: 0.3121 - acc: 0.8665 - val_loss: 0.3534 - val_acc: 0.9700\n",
            "Epoch 14/30\n",
            "100/100 [==============================] - 17s 169ms/step - loss: 0.2857 - acc: 0.8680 - val_loss: 0.0209 - val_acc: 0.9690\n",
            "Epoch 15/30\n",
            "100/100 [==============================] - 17s 167ms/step - loss: 0.2837 - acc: 0.8815 - val_loss: 0.0190 - val_acc: 0.9600\n",
            "Epoch 16/30\n",
            "100/100 [==============================] - 17s 169ms/step - loss: 0.2954 - acc: 0.8750 - val_loss: 0.1203 - val_acc: 0.9570\n",
            "Epoch 17/30\n",
            "100/100 [==============================] - 17s 168ms/step - loss: 0.2772 - acc: 0.8750 - val_loss: 0.0045 - val_acc: 0.9690\n",
            "Epoch 18/30\n",
            "100/100 [==============================] - 17s 167ms/step - loss: 0.2690 - acc: 0.8850 - val_loss: 9.3578e-06 - val_acc: 0.9700\n",
            "Epoch 19/30\n",
            "100/100 [==============================] - 17s 169ms/step - loss: 0.2677 - acc: 0.8910 - val_loss: 5.9801e-07 - val_acc: 0.9650\n",
            "Epoch 20/30\n",
            "100/100 [==============================] - 17s 168ms/step - loss: 0.2516 - acc: 0.8880 - val_loss: 6.4684e-06 - val_acc: 0.9710\n",
            "Epoch 21/30\n",
            "100/100 [==============================] - 17s 168ms/step - loss: 0.2770 - acc: 0.8840 - val_loss: 0.4677 - val_acc: 0.9720\n",
            "Epoch 22/30\n",
            "100/100 [==============================] - 17s 169ms/step - loss: 0.2644 - acc: 0.8885 - val_loss: 0.0055 - val_acc: 0.9680\n",
            "Epoch 23/30\n",
            "100/100 [==============================] - 17s 167ms/step - loss: 0.2841 - acc: 0.8795 - val_loss: 0.7433 - val_acc: 0.9690\n",
            "Epoch 24/30\n",
            "100/100 [==============================] - 17s 168ms/step - loss: 0.2581 - acc: 0.8925 - val_loss: 0.5101 - val_acc: 0.9660\n",
            "Epoch 25/30\n",
            "100/100 [==============================] - 17s 170ms/step - loss: 0.2794 - acc: 0.8770 - val_loss: 0.4917 - val_acc: 0.9700\n",
            "Epoch 26/30\n",
            "100/100 [==============================] - 17s 169ms/step - loss: 0.2773 - acc: 0.8800 - val_loss: 0.0032 - val_acc: 0.9730\n",
            "Epoch 27/30\n",
            "100/100 [==============================] - 17s 168ms/step - loss: 0.2612 - acc: 0.8930 - val_loss: 0.0169 - val_acc: 0.9710\n",
            "Epoch 28/30\n",
            "100/100 [==============================] - 17s 168ms/step - loss: 0.2641 - acc: 0.8850 - val_loss: 0.0119 - val_acc: 0.9740\n",
            "Epoch 29/30\n",
            "100/100 [==============================] - 17s 168ms/step - loss: 0.2687 - acc: 0.8820 - val_loss: 0.6124 - val_acc: 0.9710\n",
            "Epoch 30/30\n",
            "100/100 [==============================] - 17s 167ms/step - loss: 0.2606 - acc: 0.8965 - val_loss: 0.3528 - val_acc: 0.9740\n"
          ],
          "name": "stdout"
        }
      ]
    },
    {
      "cell_type": "markdown",
      "metadata": {
        "id": "xqRc_vHKc92U",
        "colab_type": "text"
      },
      "source": [
        "## Display curves of loss and accuracy during training"
      ]
    },
    {
      "cell_type": "code",
      "metadata": {
        "id": "ybWwdzz9bwuQ",
        "colab_type": "code",
        "outputId": "e2ffd059-1d45-4ba4-a1a8-4ef484f98dbe",
        "colab": {
          "base_uri": "https://localhost:8080/",
          "height": 545
        }
      },
      "source": [
        "%matplotlib inline\n",
        "\n",
        "import matplotlib.pyplot as plt\n",
        "\n",
        "acc = history.history['acc']\n",
        "val_acc = history.history['val_acc']\n",
        "\n",
        "loss = history.history['loss']\n",
        "val_loss = history.history['val_loss']\n",
        "\n",
        "epochs = range(1, len(acc) + 1)\n",
        "\n",
        "# training and validation accuracy\n",
        "\n",
        "plt.plot(epochs, acc, 'bo', label='training acc')\n",
        "plt.plot(epochs, val_acc, 'b', label='validation acc')\n",
        "plt.title('training and validation accuracy')\n",
        "plt.legend()\n",
        "\n",
        "plt.figure()\n",
        "\n",
        "# training and validation loss\n",
        "\n",
        "plt.plot(epochs, loss, 'bo', label='training loss')\n",
        "plt.plot(epochs, val_loss, 'b', label='validation loss')\n",
        "plt.title('training and validation loss')\n",
        "plt.legend()\n",
        "\n",
        "plt.show()"
      ],
      "execution_count": 9,
      "outputs": [
        {
          "output_type": "display_data",
          "data": {
            "image/png": "[encoded data removed]",
            "text/plain": [
              "<Figure size 432x288 with 1 Axes>"
            ]
          },
          "metadata": {
            "tags": [],
            "needs_background": "light"
          }
        },
        {
          "output_type": "display_data",
          "data": {
            "image/png": "[encoded data removed]",
            "text/plain": [
              "<Figure size 432x288 with 1 Axes>"
            ]
          },
          "metadata": {
            "tags": [],
            "needs_background": "light"
          }
        }
      ]
    },
    {
      "cell_type": "markdown",
      "metadata": {
        "id": "lOWsxpey8lN0",
        "colab_type": "text"
      },
      "source": [
        "## Fine-tuning"
      ]
    },
    {
      "cell_type": "markdown",
      "metadata": {
        "id": "4UWDOYRxjW64",
        "colab_type": "text"
      },
      "source": [
        "The idea here is that we only want to unfreeze the last convolutional layer, which the conv_base summary has shown to be conv2d_4. This means that we only want all layers starting here to be trainable, but everything beforehand is to stay as it was originally. We only start training from this layer as it helps prevent overfitting; if we were to do this from an earlier convolutional layer, the number of parameters we're using results can result in this occuring. "
      ]
    },
    {
      "cell_type": "code",
      "metadata": {
        "id": "PwkVMx8N8qMw",
        "colab_type": "code",
        "colab": {}
      },
      "source": [
        "conv_base.trainable = True\n",
        "\n",
        "set_trainable = False\n",
        "for layer in conv_base.layers:\n",
        "  if layer.name == 'conv2d_4':\n",
        "    set_trainable = True\n",
        "  if set_trainable:\n",
        "    layer.trainable = True\n",
        "  else:\n",
        "    layer.trainable = False"
      ],
      "execution_count": 0,
      "outputs": []
    },
    {
      "cell_type": "code",
      "metadata": {
        "id": "DyN-J7rs9cvo",
        "colab_type": "code",
        "outputId": "2d37c07c-978b-49e8-901f-b3a1c3bdb51b",
        "colab": {
          "base_uri": "https://localhost:8080/",
          "height": 1000
        }
      },
      "source": [
        "# compile model\n",
        "\n",
        "model.compile(\n",
        "    loss='binary_crossentropy',\n",
        "    #\n",
        "    # choose a smaller learning rate\n",
        "    #\n",
        "    optimizer=optimizers.RMSprop(lr=1e-5), \n",
        "    metrics=['acc'])\n",
        "\n",
        "# train\n",
        "\n",
        "history = model.fit_generator(\n",
        "    train_generator,\n",
        "    steps_per_epoch=100,\n",
        "    epochs=100,\n",
        "    validation_data=validation_generator,\n",
        "    validation_steps=50)"
      ],
      "execution_count": 11,
      "outputs": [
        {
          "output_type": "stream",
          "text": [
            "Epoch 1/100\n",
            "100/100 [==============================] - 21s 208ms/step - loss: 0.2553 - acc: 0.8890 - val_loss: 0.6595 - val_acc: 0.9380\n",
            "Epoch 2/100\n",
            "100/100 [==============================] - 17s 173ms/step - loss: 0.2348 - acc: 0.9040 - val_loss: 0.1561 - val_acc: 0.9430\n",
            "Epoch 3/100\n",
            "100/100 [==============================] - 17s 173ms/step - loss: 0.2173 - acc: 0.9060 - val_loss: 0.2258 - val_acc: 0.9160\n",
            "Epoch 4/100\n",
            "100/100 [==============================] - 17s 173ms/step - loss: 0.2370 - acc: 0.9040 - val_loss: 0.5289 - val_acc: 0.9340\n",
            "Epoch 5/100\n",
            "100/100 [==============================] - 17s 173ms/step - loss: 0.2000 - acc: 0.9200 - val_loss: 0.0234 - val_acc: 0.9340\n",
            "Epoch 6/100\n",
            "100/100 [==============================] - 17s 173ms/step - loss: 0.2256 - acc: 0.9035 - val_loss: 0.5462 - val_acc: 0.9230\n",
            "Epoch 7/100\n",
            "100/100 [==============================] - 18s 175ms/step - loss: 0.2153 - acc: 0.9080 - val_loss: 0.0447 - val_acc: 0.9330\n",
            "Epoch 8/100\n",
            "100/100 [==============================] - 17s 172ms/step - loss: 0.2244 - acc: 0.9090 - val_loss: 0.4465 - val_acc: 0.9250\n",
            "Epoch 9/100\n",
            "100/100 [==============================] - 17s 173ms/step - loss: 0.2182 - acc: 0.9055 - val_loss: 0.0993 - val_acc: 0.9350\n",
            "Epoch 10/100\n",
            "100/100 [==============================] - 17s 174ms/step - loss: 0.2262 - acc: 0.9035 - val_loss: 0.2154 - val_acc: 0.9360\n",
            "Epoch 11/100\n",
            "100/100 [==============================] - 17s 174ms/step - loss: 0.2305 - acc: 0.9030 - val_loss: 0.2085 - val_acc: 0.9380\n",
            "Epoch 12/100\n",
            "100/100 [==============================] - 17s 175ms/step - loss: 0.2140 - acc: 0.9170 - val_loss: 0.0278 - val_acc: 0.9150\n",
            "Epoch 13/100\n",
            "100/100 [==============================] - 17s 173ms/step - loss: 0.2078 - acc: 0.9115 - val_loss: 0.3235 - val_acc: 0.9310\n",
            "Epoch 14/100\n",
            "100/100 [==============================] - 17s 174ms/step - loss: 0.2117 - acc: 0.9155 - val_loss: 0.0237 - val_acc: 0.9370\n",
            "Epoch 15/100\n",
            "100/100 [==============================] - 17s 174ms/step - loss: 0.1990 - acc: 0.9215 - val_loss: 0.2352 - val_acc: 0.9200\n",
            "Epoch 16/100\n",
            "100/100 [==============================] - 17s 174ms/step - loss: 0.1936 - acc: 0.9235 - val_loss: 0.4729 - val_acc: 0.9270\n",
            "Epoch 17/100\n",
            "100/100 [==============================] - 18s 177ms/step - loss: 0.2085 - acc: 0.9155 - val_loss: 0.2037 - val_acc: 0.9350\n",
            "Epoch 18/100\n",
            "100/100 [==============================] - 17s 173ms/step - loss: 0.2057 - acc: 0.9165 - val_loss: 0.1740 - val_acc: 0.9330\n",
            "Epoch 19/100\n",
            "100/100 [==============================] - 17s 173ms/step - loss: 0.1664 - acc: 0.9375 - val_loss: 0.0186 - val_acc: 0.9420\n",
            "Epoch 20/100\n",
            "100/100 [==============================] - 17s 174ms/step - loss: 0.2014 - acc: 0.9210 - val_loss: 0.2745 - val_acc: 0.9390\n",
            "Epoch 21/100\n",
            "100/100 [==============================] - 17s 175ms/step - loss: 0.1737 - acc: 0.9325 - val_loss: 0.1136 - val_acc: 0.9330\n",
            "Epoch 22/100\n",
            "100/100 [==============================] - 17s 173ms/step - loss: 0.1910 - acc: 0.9195 - val_loss: 0.0042 - val_acc: 0.9400\n",
            "Epoch 23/100\n",
            "100/100 [==============================] - 17s 173ms/step - loss: 0.1936 - acc: 0.9260 - val_loss: 0.2545 - val_acc: 0.9270\n",
            "Epoch 24/100\n",
            "100/100 [==============================] - 17s 172ms/step - loss: 0.1769 - acc: 0.9305 - val_loss: 0.0640 - val_acc: 0.9410\n",
            "Epoch 25/100\n",
            "100/100 [==============================] - 17s 174ms/step - loss: 0.1828 - acc: 0.9220 - val_loss: 0.3544 - val_acc: 0.9250\n",
            "Epoch 26/100\n",
            "100/100 [==============================] - 17s 174ms/step - loss: 0.1953 - acc: 0.9190 - val_loss: 0.1382 - val_acc: 0.9330\n",
            "Epoch 27/100\n",
            "100/100 [==============================] - 17s 173ms/step - loss: 0.1614 - acc: 0.9385 - val_loss: 0.3327 - val_acc: 0.9400\n",
            "Epoch 28/100\n",
            "100/100 [==============================] - 17s 173ms/step - loss: 0.1546 - acc: 0.9380 - val_loss: 0.1378 - val_acc: 0.9400\n",
            "Epoch 29/100\n",
            "100/100 [==============================] - 17s 172ms/step - loss: 0.1781 - acc: 0.9270 - val_loss: 0.0415 - val_acc: 0.9410\n",
            "Epoch 30/100\n",
            "100/100 [==============================] - 17s 175ms/step - loss: 0.1798 - acc: 0.9310 - val_loss: 0.2863 - val_acc: 0.9330\n",
            "Epoch 31/100\n",
            "100/100 [==============================] - 17s 174ms/step - loss: 0.1805 - acc: 0.9260 - val_loss: 0.0966 - val_acc: 0.9420\n",
            "Epoch 32/100\n",
            "100/100 [==============================] - 17s 173ms/step - loss: 0.1650 - acc: 0.9355 - val_loss: 0.0347 - val_acc: 0.9440\n",
            "Epoch 33/100\n",
            "100/100 [==============================] - 17s 173ms/step - loss: 0.1808 - acc: 0.9320 - val_loss: 0.0410 - val_acc: 0.9320\n",
            "Epoch 34/100\n",
            "100/100 [==============================] - 17s 174ms/step - loss: 0.1687 - acc: 0.9380 - val_loss: 0.0440 - val_acc: 0.9430\n",
            "Epoch 35/100\n",
            "100/100 [==============================] - 18s 175ms/step - loss: 0.1706 - acc: 0.9385 - val_loss: 0.1016 - val_acc: 0.9390\n",
            "Epoch 36/100\n",
            "100/100 [==============================] - 17s 173ms/step - loss: 0.1694 - acc: 0.9340 - val_loss: 0.0507 - val_acc: 0.9380\n",
            "Epoch 37/100\n",
            "100/100 [==============================] - 17s 173ms/step - loss: 0.1617 - acc: 0.9370 - val_loss: 0.0458 - val_acc: 0.9420\n",
            "Epoch 38/100\n",
            "100/100 [==============================] - 17s 175ms/step - loss: 0.1671 - acc: 0.9300 - val_loss: 0.0946 - val_acc: 0.9210\n",
            "Epoch 39/100\n",
            "100/100 [==============================] - 17s 173ms/step - loss: 0.1484 - acc: 0.9360 - val_loss: 0.4652 - val_acc: 0.9390\n",
            "Epoch 40/100\n",
            "100/100 [==============================] - 17s 174ms/step - loss: 0.1630 - acc: 0.9405 - val_loss: 0.0596 - val_acc: 0.9370\n",
            "Epoch 41/100\n",
            "100/100 [==============================] - 17s 173ms/step - loss: 0.1636 - acc: 0.9395 - val_loss: 0.0342 - val_acc: 0.9390\n",
            "Epoch 42/100\n",
            "100/100 [==============================] - 17s 173ms/step - loss: 0.1471 - acc: 0.9450 - val_loss: 0.1972 - val_acc: 0.9450\n",
            "Epoch 43/100\n",
            "100/100 [==============================] - 17s 173ms/step - loss: 0.1401 - acc: 0.9450 - val_loss: 0.1220 - val_acc: 0.9440\n",
            "Epoch 44/100\n",
            "100/100 [==============================] - 17s 174ms/step - loss: 0.1487 - acc: 0.9455 - val_loss: 0.1004 - val_acc: 0.9300\n",
            "Epoch 45/100\n",
            "100/100 [==============================] - 17s 175ms/step - loss: 0.1573 - acc: 0.9395 - val_loss: 0.0379 - val_acc: 0.9420\n",
            "Epoch 46/100\n",
            "100/100 [==============================] - 17s 173ms/step - loss: 0.1418 - acc: 0.9405 - val_loss: 0.3614 - val_acc: 0.9330\n",
            "Epoch 47/100\n",
            "100/100 [==============================] - 17s 173ms/step - loss: 0.1414 - acc: 0.9515 - val_loss: 0.0373 - val_acc: 0.9420\n",
            "Epoch 48/100\n",
            "100/100 [==============================] - 17s 173ms/step - loss: 0.1441 - acc: 0.9440 - val_loss: 0.0951 - val_acc: 0.9500\n",
            "Epoch 49/100\n",
            "100/100 [==============================] - 17s 175ms/step - loss: 0.1528 - acc: 0.9445 - val_loss: 0.1134 - val_acc: 0.9400\n",
            "Epoch 50/100\n",
            "100/100 [==============================] - 17s 172ms/step - loss: 0.1659 - acc: 0.9395 - val_loss: 0.2776 - val_acc: 0.9450\n",
            "Epoch 51/100\n",
            "100/100 [==============================] - 17s 171ms/step - loss: 0.1513 - acc: 0.9425 - val_loss: 0.0144 - val_acc: 0.9380\n",
            "Epoch 52/100\n",
            "100/100 [==============================] - 17s 173ms/step - loss: 0.1390 - acc: 0.9460 - val_loss: 0.1374 - val_acc: 0.9410\n",
            "Epoch 53/100\n",
            "100/100 [==============================] - 17s 175ms/step - loss: 0.1304 - acc: 0.9495 - val_loss: 0.2729 - val_acc: 0.9400\n",
            "Epoch 54/100\n",
            "100/100 [==============================] - 17s 174ms/step - loss: 0.1145 - acc: 0.9550 - val_loss: 0.1194 - val_acc: 0.9330\n",
            "Epoch 55/100\n",
            "100/100 [==============================] - 17s 173ms/step - loss: 0.1275 - acc: 0.9515 - val_loss: 0.0724 - val_acc: 0.9390\n",
            "Epoch 56/100\n",
            "100/100 [==============================] - 17s 175ms/step - loss: 0.1377 - acc: 0.9525 - val_loss: 0.0105 - val_acc: 0.9410\n",
            "Epoch 57/100\n",
            "100/100 [==============================] - 17s 174ms/step - loss: 0.1524 - acc: 0.9390 - val_loss: 0.2773 - val_acc: 0.9340\n",
            "Epoch 58/100\n",
            "100/100 [==============================] - 17s 175ms/step - loss: 0.1282 - acc: 0.9515 - val_loss: 0.1476 - val_acc: 0.9400\n",
            "Epoch 59/100\n",
            "100/100 [==============================] - 17s 174ms/step - loss: 0.1474 - acc: 0.9420 - val_loss: 0.4119 - val_acc: 0.9360\n",
            "Epoch 60/100\n",
            "100/100 [==============================] - 17s 174ms/step - loss: 0.1463 - acc: 0.9500 - val_loss: 0.1039 - val_acc: 0.9400\n",
            "Epoch 61/100\n",
            "100/100 [==============================] - 17s 174ms/step - loss: 0.1471 - acc: 0.9460 - val_loss: 0.0358 - val_acc: 0.9390\n",
            "Epoch 62/100\n",
            "100/100 [==============================] - 17s 174ms/step - loss: 0.1271 - acc: 0.9520 - val_loss: 0.1319 - val_acc: 0.9390\n",
            "Epoch 63/100\n",
            "100/100 [==============================] - 18s 175ms/step - loss: 0.1349 - acc: 0.9515 - val_loss: 0.0919 - val_acc: 0.9330\n",
            "Epoch 64/100\n",
            "100/100 [==============================] - 17s 173ms/step - loss: 0.1138 - acc: 0.9555 - val_loss: 0.0571 - val_acc: 0.9400\n",
            "Epoch 65/100\n",
            "100/100 [==============================] - 17s 173ms/step - loss: 0.1282 - acc: 0.9465 - val_loss: 0.3019 - val_acc: 0.9390\n",
            "Epoch 66/100\n",
            "100/100 [==============================] - 17s 173ms/step - loss: 0.1017 - acc: 0.9590 - val_loss: 0.0456 - val_acc: 0.9360\n",
            "Epoch 67/100\n",
            "100/100 [==============================] - 17s 174ms/step - loss: 0.1308 - acc: 0.9505 - val_loss: 0.1663 - val_acc: 0.9280\n",
            "Epoch 68/100\n",
            "100/100 [==============================] - 17s 174ms/step - loss: 0.1449 - acc: 0.9440 - val_loss: 0.5237 - val_acc: 0.9410\n",
            "Epoch 69/100\n",
            "100/100 [==============================] - 17s 174ms/step - loss: 0.1099 - acc: 0.9560 - val_loss: 0.0275 - val_acc: 0.9350\n",
            "Epoch 70/100\n",
            "100/100 [==============================] - 18s 175ms/step - loss: 0.1127 - acc: 0.9545 - val_loss: 0.1847 - val_acc: 0.9410\n",
            "Epoch 71/100\n",
            "100/100 [==============================] - 17s 175ms/step - loss: 0.1105 - acc: 0.9615 - val_loss: 0.0015 - val_acc: 0.9380\n",
            "Epoch 72/100\n",
            "100/100 [==============================] - 18s 175ms/step - loss: 0.1232 - acc: 0.9560 - val_loss: 0.2146 - val_acc: 0.9290\n",
            "Epoch 73/100\n",
            "100/100 [==============================] - 17s 173ms/step - loss: 0.1353 - acc: 0.9490 - val_loss: 0.0027 - val_acc: 0.9340\n",
            "Epoch 74/100\n",
            "100/100 [==============================] - 17s 173ms/step - loss: 0.1286 - acc: 0.9520 - val_loss: 0.0313 - val_acc: 0.9360\n",
            "Epoch 75/100\n",
            "100/100 [==============================] - 17s 173ms/step - loss: 0.1355 - acc: 0.9470 - val_loss: 0.1313 - val_acc: 0.9350\n",
            "Epoch 76/100\n",
            "100/100 [==============================] - 17s 174ms/step - loss: 0.1239 - acc: 0.9540 - val_loss: 0.0983 - val_acc: 0.9420\n",
            "Epoch 77/100\n",
            "100/100 [==============================] - 17s 175ms/step - loss: 0.1133 - acc: 0.9555 - val_loss: 0.0447 - val_acc: 0.9410\n",
            "Epoch 78/100\n",
            "100/100 [==============================] - 17s 173ms/step - loss: 0.1060 - acc: 0.9605 - val_loss: 0.3964 - val_acc: 0.9330\n",
            "Epoch 79/100\n",
            "100/100 [==============================] - 17s 172ms/step - loss: 0.0999 - acc: 0.9625 - val_loss: 0.0022 - val_acc: 0.9380\n",
            "Epoch 80/100\n",
            "100/100 [==============================] - 17s 173ms/step - loss: 0.1100 - acc: 0.9610 - val_loss: 0.0838 - val_acc: 0.9370\n",
            "Epoch 81/100\n",
            "100/100 [==============================] - 17s 174ms/step - loss: 0.1027 - acc: 0.9620 - val_loss: 0.0484 - val_acc: 0.9240\n",
            "Epoch 82/100\n",
            "100/100 [==============================] - 17s 174ms/step - loss: 0.1135 - acc: 0.9575 - val_loss: 0.0811 - val_acc: 0.9380\n",
            "Epoch 83/100\n",
            "100/100 [==============================] - 17s 174ms/step - loss: 0.0916 - acc: 0.9645 - val_loss: 0.3696 - val_acc: 0.9330\n",
            "Epoch 84/100\n",
            "100/100 [==============================] - 17s 172ms/step - loss: 0.1017 - acc: 0.9575 - val_loss: 0.0044 - val_acc: 0.9400\n",
            "Epoch 85/100\n",
            "100/100 [==============================] - 17s 174ms/step - loss: 0.1343 - acc: 0.9540 - val_loss: 0.6040 - val_acc: 0.9330\n",
            "Epoch 86/100\n",
            "100/100 [==============================] - 17s 175ms/step - loss: 0.0928 - acc: 0.9620 - val_loss: 0.3189 - val_acc: 0.9370\n",
            "Epoch 87/100\n",
            "100/100 [==============================] - 17s 173ms/step - loss: 0.1050 - acc: 0.9580 - val_loss: 0.0286 - val_acc: 0.9390\n",
            "Epoch 88/100\n",
            "100/100 [==============================] - 17s 174ms/step - loss: 0.1184 - acc: 0.9560 - val_loss: 0.5040 - val_acc: 0.9370\n",
            "Epoch 89/100\n",
            "100/100 [==============================] - 17s 173ms/step - loss: 0.1013 - acc: 0.9655 - val_loss: 0.2310 - val_acc: 0.9310\n",
            "Epoch 90/100\n",
            "100/100 [==============================] - 17s 172ms/step - loss: 0.1148 - acc: 0.9595 - val_loss: 0.4351 - val_acc: 0.9360\n",
            "Epoch 91/100\n",
            "100/100 [==============================] - 17s 174ms/step - loss: 0.1045 - acc: 0.9630 - val_loss: 0.9778 - val_acc: 0.9360\n",
            "Epoch 92/100\n",
            "100/100 [==============================] - 17s 172ms/step - loss: 0.1260 - acc: 0.9455 - val_loss: 0.0293 - val_acc: 0.9360\n",
            "Epoch 93/100\n",
            "100/100 [==============================] - 17s 172ms/step - loss: 0.0981 - acc: 0.9695 - val_loss: 0.2183 - val_acc: 0.9370\n",
            "Epoch 94/100\n",
            "100/100 [==============================] - 17s 173ms/step - loss: 0.1036 - acc: 0.9625 - val_loss: 0.0726 - val_acc: 0.9370\n",
            "Epoch 95/100\n",
            "100/100 [==============================] - 17s 173ms/step - loss: 0.0949 - acc: 0.9625 - val_loss: 0.0295 - val_acc: 0.9360\n",
            "Epoch 96/100\n",
            "100/100 [==============================] - 17s 173ms/step - loss: 0.1009 - acc: 0.9635 - val_loss: 0.0279 - val_acc: 0.9350\n",
            "Epoch 97/100\n",
            "100/100 [==============================] - 17s 172ms/step - loss: 0.0875 - acc: 0.9640 - val_loss: 0.0093 - val_acc: 0.9300\n",
            "Epoch 98/100\n",
            "100/100 [==============================] - 17s 172ms/step - loss: 0.0994 - acc: 0.9605 - val_loss: 0.0048 - val_acc: 0.9370\n",
            "Epoch 99/100\n",
            "100/100 [==============================] - 17s 172ms/step - loss: 0.0994 - acc: 0.9615 - val_loss: 0.3062 - val_acc: 0.9390\n",
            "Epoch 100/100\n",
            "100/100 [==============================] - 17s 173ms/step - loss: 0.1114 - acc: 0.9605 - val_loss: 0.1221 - val_acc: 0.9420\n"
          ],
          "name": "stdout"
        }
      ]
    },
    {
      "cell_type": "markdown",
      "metadata": {
        "id": "eVBQgh5M-Rtz",
        "colab_type": "text"
      },
      "source": [
        "## Display learning curves during fine-tuning"
      ]
    },
    {
      "cell_type": "markdown",
      "metadata": {
        "id": "THNhu1FLm_z0",
        "colab_type": "text"
      },
      "source": [
        "To display the data, we shall curve the function by utilizing the function \"smooth_curve,\" provided in chapter 5.3 of \"Deep Learning with Python.\""
      ]
    },
    {
      "cell_type": "code",
      "metadata": {
        "id": "mbkIw7Ie-NP4",
        "colab_type": "code",
        "outputId": "cf661974-08e0-47ba-af98-ba390739c66e",
        "colab": {
          "base_uri": "https://localhost:8080/",
          "height": 545
        }
      },
      "source": [
        "%matplotlib inline\n",
        "\n",
        "import matplotlib.pyplot as plt\n",
        "\n",
        "def smooth_curve(points, factor=0.8):\n",
        "  smoothed_points = []\n",
        "  for point in points:\n",
        "    if smoothed_points:\n",
        "      previous = smoothed_points[-1]\n",
        "      smoothed_points.append(previous * factor + point * (1 - factor))\n",
        "    else:\n",
        "      smoothed_points.append(point)\n",
        "  return smoothed_points\n",
        "\n",
        "acc = history.history['acc']\n",
        "val_acc = history.history['val_acc']\n",
        "\n",
        "loss = history.history['loss']\n",
        "val_loss = history.history['val_loss']\n",
        "\n",
        "epochs = range(1, len(acc) + 1)\n",
        "\n",
        "plt.plot(epochs, smooth_curve(acc), \"bo\", label=\"Smoothed training acc\")\n",
        "plt.plot(epochs, smooth_curve(val_acc), \"b\", label=\"Smoothed validation acc\")\n",
        "plt.title(\"Training and validation accuracy\")\n",
        "plt.legend()\n",
        "plt.figure()\n",
        "plt.plot(epochs, smooth_curve(loss), \"bo\", label=\"Smoothed training loss\")\n",
        "plt.plot(epochs, smooth_curve(val_loss), \"b\", label=\"Smoothed validation loss\")\n",
        "plt.title(\"Training and validation loss\")\n",
        "plt.legend()\n",
        "plt.show()\n",
        "\n",
        "# # training and validation accuracy\n",
        "\n",
        "# plt.plot(epochs, acc, 'bo', label='training acc')\n",
        "# plt.plot(epochs, val_acc, 'b', label='validation acc')\n",
        "# plt.title('training and validation accuracy')\n",
        "# plt.legend()\n",
        "\n",
        "# plt.figure()\n",
        "\n",
        "# # training and validation loss\n",
        "\n",
        "# plt.plot(epochs, loss, 'bo', label='training loss')\n",
        "# plt.plot(epochs, val_loss, 'b', label='validation loss')\n",
        "# plt.title('training and validation loss')\n",
        "# plt.legend()\n",
        "\n",
        "plt.show()"
      ],
      "execution_count": 12,
      "outputs": [
        {
          "output_type": "display_data",
          "data": {
            "image/png": "[encoded data removed]",
            "text/plain": [
              "<Figure size 432x288 with 1 Axes>"
            ]
          },
          "metadata": {
            "tags": [],
            "needs_background": "light"
          }
        },
        {
          "output_type": "display_data",
          "data": {
            "image/png": "[encoded data removed]",
            "text/plain": [
              "<Figure size 432x288 with 1 Axes>"
            ]
          },
          "metadata": {
            "tags": [],
            "needs_background": "light"
          }
        }
      ]
    },
    {
      "cell_type": "markdown",
      "metadata": {
        "id": "he3Nw6TOJwjx",
        "colab_type": "text"
      },
      "source": [
        "## Print out validation loss and accuracy"
      ]
    },
    {
      "cell_type": "code",
      "metadata": {
        "id": "SVQtrk7uJdhl",
        "colab_type": "code",
        "colab": {}
      },
      "source": [
        "val_loss, val_acc = model.evaluate_generator(validation_generator, steps=50)"
      ],
      "execution_count": 0,
      "outputs": []
    },
    {
      "cell_type": "code",
      "metadata": {
        "id": "HpdddLi1SUMe",
        "colab_type": "code",
        "outputId": "11ec2847-beda-4cba-f663-9cd0d0d57510",
        "colab": {
          "base_uri": "https://localhost:8080/",
          "height": 53
        }
      },
      "source": [
        "print(\"Validation loss:\", val_loss)\n",
        "print(\"Validation accuracy:\", val_acc)"
      ],
      "execution_count": 14,
      "outputs": [
        {
          "output_type": "stream",
          "text": [
            "Validation loss: 0.6802034974098206\n",
            "Validation accuracy: 0.9419999718666077\n"
          ],
          "name": "stdout"
        }
      ]
    },
    {
      "cell_type": "markdown",
      "metadata": {
        "id": "oW5FU4GcDcdI",
        "colab_type": "text"
      },
      "source": [
        ""
      ]
    },
    {
      "cell_type": "markdown",
      "metadata": {
        "id": "7Ww756WToby8",
        "colab_type": "text"
      },
      "source": [
        "## Save the model"
      ]
    },
    {
      "cell_type": "code",
      "metadata": {
        "id": "0lTUpUdwobKW",
        "colab_type": "code",
        "colab": {}
      },
      "source": [
        "model_fname = 'cats_and_dogs_small_4.h5' \n",
        "model.save(model_fname)"
      ],
      "execution_count": 0,
      "outputs": []
    },
    {
      "cell_type": "code",
      "metadata": {
        "id": "YhEoI8ZTok-X",
        "colab_type": "code",
        "colab": {}
      },
      "source": [
        "from google.colab import files\n",
        "\n",
        "with open(model_fname, 'r') as f:\n",
        "  files.download(model_fname)"
      ],
      "execution_count": 0,
      "outputs": []
    }
  ]
}