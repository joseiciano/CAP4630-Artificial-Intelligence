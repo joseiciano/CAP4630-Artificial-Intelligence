{
  "nbformat": 4,
  "nbformat_minor": 0,
  "metadata": {
    "colab": {
      "name": "P3 Part A.ipynb",
      "provenance": []
    },
    "kernelspec": {
      "name": "python3",
      "display_name": "Python 3"
    },
    "accelerator": "GPU"
  },
  "cells": [
    {
      "cell_type": "markdown",
      "metadata": {
        "id": "t9ImRl_D2DK3",
        "colab_type": "text"
      },
      "source": [
        "### Problem 3:\n",
        "\n",
        "This is my first adaption of the notebook provided here: \n",
        "\n",
        "https://colab.research.google.com/drive/1F-RWvoxH8MmT7c1UmNy41iuOp-ejiLoF#scrollTo=KSrgMJ5vKFzQ&forceEdit=true&sandboxMode=true.\n",
        "\n"
      ]
    },
    {
      "cell_type": "markdown",
      "metadata": {
        "id": "KSrgMJ5vKFzQ",
        "colab_type": "text"
      },
      "source": [
        "# Fine-tuning VGG16 "
      ]
    },
    {
      "cell_type": "markdown",
      "metadata": {
        "id": "TIW7bZaAK-Hf",
        "colab_type": "text"
      },
      "source": [
        "This is based on section 5.3 *Using a pretrained convnet* of the book *Deep learning with Python* by Francois Chollet. I have made several changes to the code. I use the data that is already provided by Google. I don't download the data from Kaggle as in the deep learning book."
      ]
    },
    {
      "cell_type": "markdown",
      "metadata": {
        "id": "nsBq__dVo2pj",
        "colab_type": "text"
      },
      "source": [
        "## Feature extraction"
      ]
    },
    {
      "cell_type": "markdown",
      "metadata": {
        "id": "0g6ETAM9o54M",
        "colab_type": "text"
      },
      "source": [
        "Feature extraction consists of using the representations learned by a previous network to extract interesting features from new samples. These features are then run through a new classifier, which is trained from scratch.\n",
        "\n",
        "We will use here the convolutional base of the VGG16 model to extract the features. We will feed these features to a densely connected classifier with dropout. We will fine-tune some layers."
      ]
    },
    {
      "cell_type": "markdown",
      "metadata": {
        "id": "BqIG8QHMLNOn",
        "colab_type": "text"
      },
      "source": [
        "## Download the data"
      ]
    },
    {
      "cell_type": "markdown",
      "metadata": {
        "id": "t3I1jd7cKV6_",
        "colab_type": "text"
      },
      "source": [
        "Download the example data, a zip. of 2,000 JPG pictures of cats and dogs and extract it locally in ```/tmp```.\n",
        "\n"
      ]
    },
    {
      "cell_type": "code",
      "metadata": {
        "id": "JWjprHEXJ5Qi",
        "colab_type": "code",
        "outputId": "a4d3abec-11ee-43e3-a431-b54d842cb7c6",
        "colab": {
          "base_uri": "https://localhost:8080/",
          "height": 217
        }
      },
      "source": [
        "!wget --no-check-certificate \\\n",
        "    https://storage.googleapis.com/mledu-datasets/cats_and_dogs_filtered.zip \\\n",
        "    -O /tmp/cats_and_dogs_filtered.zip"
      ],
      "execution_count": 20,
      "outputs": [
        {
          "output_type": "stream",
          "text": [
            "--2020-04-21 18:57:31--  https://storage.googleapis.com/mledu-datasets/cats_and_dogs_filtered.zip\n",
            "Resolving storage.googleapis.com (storage.googleapis.com)... 74.125.142.128, 2607:f8b0:400e:c03::80\n",
            "Connecting to storage.googleapis.com (storage.googleapis.com)|74.125.142.128|:443... connected.\n",
            "HTTP request sent, awaiting response... 200 OK\n",
            "Length: 68606236 (65M) [application/zip]\n",
            "Saving to: ‘/tmp/cats_and_dogs_filtered.zip’\n",
            "\n",
            "/tmp/cats_and_dogs_ 100%[===================>]  65.43M   114MB/s    in 0.6s    \n",
            "\n",
            "2020-04-21 18:57:32 (114 MB/s) - ‘/tmp/cats_and_dogs_filtered.zip’ saved [68606236/68606236]\n",
            "\n"
          ],
          "name": "stdout"
        }
      ]
    },
    {
      "cell_type": "code",
      "metadata": {
        "id": "WvoHtdA-K6Rw",
        "colab_type": "code",
        "colab": {}
      },
      "source": [
        "import os\n",
        "import zipfile\n",
        "\n",
        "local_zip = '/tmp/cats_and_dogs_filtered.zip'\n",
        "zip_ref = zipfile.ZipFile(local_zip, 'r')\n",
        "zip_ref.extractall('/tmp')\n",
        "zip_ref.close()"
      ],
      "execution_count": 0,
      "outputs": []
    },
    {
      "cell_type": "markdown",
      "metadata": {
        "id": "shZiOBnJMyy_",
        "colab_type": "text"
      },
      "source": [
        "Note that the data provided by Google does not have a test set."
      ]
    },
    {
      "cell_type": "code",
      "metadata": {
        "id": "dL8ikM89LlsH",
        "colab_type": "code",
        "colab": {}
      },
      "source": [
        "base_dir = '/tmp/cats_and_dogs_filtered'\n",
        "train_dir = os.path.join(base_dir, 'train')\n",
        "validation_dir = os.path.join(base_dir, 'validation')\n",
        "\n",
        "# Directory with our training cat pictures\n",
        "train_cats_dir = os.path.join(train_dir, 'cats')\n",
        "\n",
        "# Directory with our training dog pictures\n",
        "train_dogs_dir = os.path.join(train_dir, 'dogs')\n",
        "\n",
        "# Directory with our validation cat pictures\n",
        "validation_cats_dir = os.path.join(validation_dir, 'cats')\n",
        "\n",
        "# Directory with our validation dog pictures\n",
        "validation_dogs_dir = os.path.join(validation_dir, 'dogs')"
      ],
      "execution_count": 0,
      "outputs": []
    },
    {
      "cell_type": "markdown",
      "metadata": {
        "id": "inyP8bcdXnn-",
        "colab_type": "text"
      },
      "source": [
        "## Build network with Xception convolution base and custom densely connected layers"
      ]
    },
    {
      "cell_type": "markdown",
      "metadata": {
        "id": "kQ48W5T9rHWu",
        "colab_type": "text"
      },
      "source": [
        "### Load the convolutional base"
      ]
    },
    {
      "cell_type": "code",
      "metadata": {
        "id": "Y0FgtANCXm_H",
        "colab_type": "code",
        "outputId": "ebc6eeab-b8d9-4079-fd15-4c2d695954a6",
        "colab": {
          "base_uri": "https://localhost:8080/",
          "height": 1000
        }
      },
      "source": [
        "from keras.applications import Xception\n",
        "\n",
        "conv_base = Xception(\n",
        "    weights='imagenet', \n",
        "    include_top=False, \n",
        "    input_shape=(150, 150, 3))\n",
        "\n",
        "conv_base.summary()"
      ],
      "execution_count": 23,
      "outputs": [
        {
          "output_type": "stream",
          "text": [
            "Model: \"xception\"\n",
            "__________________________________________________________________________________________________\n",
            "Layer (type)                    Output Shape         Param #     Connected to                     \n",
            "==================================================================================================\n",
            "input_2 (InputLayer)            (None, 150, 150, 3)  0                                            \n",
            "__________________________________________________________________________________________________\n",
            "block1_conv1 (Conv2D)           (None, 74, 74, 32)   864         input_2[0][0]                    \n",
            "__________________________________________________________________________________________________\n",
            "block1_conv1_bn (BatchNormaliza (None, 74, 74, 32)   128         block1_conv1[0][0]               \n",
            "__________________________________________________________________________________________________\n",
            "block1_conv1_act (Activation)   (None, 74, 74, 32)   0           block1_conv1_bn[0][0]            \n",
            "__________________________________________________________________________________________________\n",
            "block1_conv2 (Conv2D)           (None, 72, 72, 64)   18432       block1_conv1_act[0][0]           \n",
            "__________________________________________________________________________________________________\n",
            "block1_conv2_bn (BatchNormaliza (None, 72, 72, 64)   256         block1_conv2[0][0]               \n",
            "__________________________________________________________________________________________________\n",
            "block1_conv2_act (Activation)   (None, 72, 72, 64)   0           block1_conv2_bn[0][0]            \n",
            "__________________________________________________________________________________________________\n",
            "block2_sepconv1 (SeparableConv2 (None, 72, 72, 128)  8768        block1_conv2_act[0][0]           \n",
            "__________________________________________________________________________________________________\n",
            "block2_sepconv1_bn (BatchNormal (None, 72, 72, 128)  512         block2_sepconv1[0][0]            \n",
            "__________________________________________________________________________________________________\n",
            "block2_sepconv2_act (Activation (None, 72, 72, 128)  0           block2_sepconv1_bn[0][0]         \n",
            "__________________________________________________________________________________________________\n",
            "block2_sepconv2 (SeparableConv2 (None, 72, 72, 128)  17536       block2_sepconv2_act[0][0]        \n",
            "__________________________________________________________________________________________________\n",
            "block2_sepconv2_bn (BatchNormal (None, 72, 72, 128)  512         block2_sepconv2[0][0]            \n",
            "__________________________________________________________________________________________________\n",
            "conv2d_5 (Conv2D)               (None, 36, 36, 128)  8192        block1_conv2_act[0][0]           \n",
            "__________________________________________________________________________________________________\n",
            "block2_pool (MaxPooling2D)      (None, 36, 36, 128)  0           block2_sepconv2_bn[0][0]         \n",
            "__________________________________________________________________________________________________\n",
            "batch_normalization_5 (BatchNor (None, 36, 36, 128)  512         conv2d_5[0][0]                   \n",
            "__________________________________________________________________________________________________\n",
            "add_13 (Add)                    (None, 36, 36, 128)  0           block2_pool[0][0]                \n",
            "                                                                 batch_normalization_5[0][0]      \n",
            "__________________________________________________________________________________________________\n",
            "block3_sepconv1_act (Activation (None, 36, 36, 128)  0           add_13[0][0]                     \n",
            "__________________________________________________________________________________________________\n",
            "block3_sepconv1 (SeparableConv2 (None, 36, 36, 256)  33920       block3_sepconv1_act[0][0]        \n",
            "__________________________________________________________________________________________________\n",
            "block3_sepconv1_bn (BatchNormal (None, 36, 36, 256)  1024        block3_sepconv1[0][0]            \n",
            "__________________________________________________________________________________________________\n",
            "block3_sepconv2_act (Activation (None, 36, 36, 256)  0           block3_sepconv1_bn[0][0]         \n",
            "__________________________________________________________________________________________________\n",
            "block3_sepconv2 (SeparableConv2 (None, 36, 36, 256)  67840       block3_sepconv2_act[0][0]        \n",
            "__________________________________________________________________________________________________\n",
            "block3_sepconv2_bn (BatchNormal (None, 36, 36, 256)  1024        block3_sepconv2[0][0]            \n",
            "__________________________________________________________________________________________________\n",
            "conv2d_6 (Conv2D)               (None, 18, 18, 256)  32768       add_13[0][0]                     \n",
            "__________________________________________________________________________________________________\n",
            "block3_pool (MaxPooling2D)      (None, 18, 18, 256)  0           block3_sepconv2_bn[0][0]         \n",
            "__________________________________________________________________________________________________\n",
            "batch_normalization_6 (BatchNor (None, 18, 18, 256)  1024        conv2d_6[0][0]                   \n",
            "__________________________________________________________________________________________________\n",
            "add_14 (Add)                    (None, 18, 18, 256)  0           block3_pool[0][0]                \n",
            "                                                                 batch_normalization_6[0][0]      \n",
            "__________________________________________________________________________________________________\n",
            "block4_sepconv1_act (Activation (None, 18, 18, 256)  0           add_14[0][0]                     \n",
            "__________________________________________________________________________________________________\n",
            "block4_sepconv1 (SeparableConv2 (None, 18, 18, 728)  188672      block4_sepconv1_act[0][0]        \n",
            "__________________________________________________________________________________________________\n",
            "block4_sepconv1_bn (BatchNormal (None, 18, 18, 728)  2912        block4_sepconv1[0][0]            \n",
            "__________________________________________________________________________________________________\n",
            "block4_sepconv2_act (Activation (None, 18, 18, 728)  0           block4_sepconv1_bn[0][0]         \n",
            "__________________________________________________________________________________________________\n",
            "block4_sepconv2 (SeparableConv2 (None, 18, 18, 728)  536536      block4_sepconv2_act[0][0]        \n",
            "__________________________________________________________________________________________________\n",
            "block4_sepconv2_bn (BatchNormal (None, 18, 18, 728)  2912        block4_sepconv2[0][0]            \n",
            "__________________________________________________________________________________________________\n",
            "conv2d_7 (Conv2D)               (None, 9, 9, 728)    186368      add_14[0][0]                     \n",
            "__________________________________________________________________________________________________\n",
            "block4_pool (MaxPooling2D)      (None, 9, 9, 728)    0           block4_sepconv2_bn[0][0]         \n",
            "__________________________________________________________________________________________________\n",
            "batch_normalization_7 (BatchNor (None, 9, 9, 728)    2912        conv2d_7[0][0]                   \n",
            "__________________________________________________________________________________________________\n",
            "add_15 (Add)                    (None, 9, 9, 728)    0           block4_pool[0][0]                \n",
            "                                                                 batch_normalization_7[0][0]      \n",
            "__________________________________________________________________________________________________\n",
            "block5_sepconv1_act (Activation (None, 9, 9, 728)    0           add_15[0][0]                     \n",
            "__________________________________________________________________________________________________\n",
            "block5_sepconv1 (SeparableConv2 (None, 9, 9, 728)    536536      block5_sepconv1_act[0][0]        \n",
            "__________________________________________________________________________________________________\n",
            "block5_sepconv1_bn (BatchNormal (None, 9, 9, 728)    2912        block5_sepconv1[0][0]            \n",
            "__________________________________________________________________________________________________\n",
            "block5_sepconv2_act (Activation (None, 9, 9, 728)    0           block5_sepconv1_bn[0][0]         \n",
            "__________________________________________________________________________________________________\n",
            "block5_sepconv2 (SeparableConv2 (None, 9, 9, 728)    536536      block5_sepconv2_act[0][0]        \n",
            "__________________________________________________________________________________________________\n",
            "block5_sepconv2_bn (BatchNormal (None, 9, 9, 728)    2912        block5_sepconv2[0][0]            \n",
            "__________________________________________________________________________________________________\n",
            "block5_sepconv3_act (Activation (None, 9, 9, 728)    0           block5_sepconv2_bn[0][0]         \n",
            "__________________________________________________________________________________________________\n",
            "block5_sepconv3 (SeparableConv2 (None, 9, 9, 728)    536536      block5_sepconv3_act[0][0]        \n",
            "__________________________________________________________________________________________________\n",
            "block5_sepconv3_bn (BatchNormal (None, 9, 9, 728)    2912        block5_sepconv3[0][0]            \n",
            "__________________________________________________________________________________________________\n",
            "add_16 (Add)                    (None, 9, 9, 728)    0           block5_sepconv3_bn[0][0]         \n",
            "                                                                 add_15[0][0]                     \n",
            "__________________________________________________________________________________________________\n",
            "block6_sepconv1_act (Activation (None, 9, 9, 728)    0           add_16[0][0]                     \n",
            "__________________________________________________________________________________________________\n",
            "block6_sepconv1 (SeparableConv2 (None, 9, 9, 728)    536536      block6_sepconv1_act[0][0]        \n",
            "__________________________________________________________________________________________________\n",
            "block6_sepconv1_bn (BatchNormal (None, 9, 9, 728)    2912        block6_sepconv1[0][0]            \n",
            "__________________________________________________________________________________________________\n",
            "block6_sepconv2_act (Activation (None, 9, 9, 728)    0           block6_sepconv1_bn[0][0]         \n",
            "__________________________________________________________________________________________________\n",
            "block6_sepconv2 (SeparableConv2 (None, 9, 9, 728)    536536      block6_sepconv2_act[0][0]        \n",
            "__________________________________________________________________________________________________\n",
            "block6_sepconv2_bn (BatchNormal (None, 9, 9, 728)    2912        block6_sepconv2[0][0]            \n",
            "__________________________________________________________________________________________________\n",
            "block6_sepconv3_act (Activation (None, 9, 9, 728)    0           block6_sepconv2_bn[0][0]         \n",
            "__________________________________________________________________________________________________\n",
            "block6_sepconv3 (SeparableConv2 (None, 9, 9, 728)    536536      block6_sepconv3_act[0][0]        \n",
            "__________________________________________________________________________________________________\n",
            "block6_sepconv3_bn (BatchNormal (None, 9, 9, 728)    2912        block6_sepconv3[0][0]            \n",
            "__________________________________________________________________________________________________\n",
            "add_17 (Add)                    (None, 9, 9, 728)    0           block6_sepconv3_bn[0][0]         \n",
            "                                                                 add_16[0][0]                     \n",
            "__________________________________________________________________________________________________\n",
            "block7_sepconv1_act (Activation (None, 9, 9, 728)    0           add_17[0][0]                     \n",
            "__________________________________________________________________________________________________\n",
            "block7_sepconv1 (SeparableConv2 (None, 9, 9, 728)    536536      block7_sepconv1_act[0][0]        \n",
            "__________________________________________________________________________________________________\n",
            "block7_sepconv1_bn (BatchNormal (None, 9, 9, 728)    2912        block7_sepconv1[0][0]            \n",
            "__________________________________________________________________________________________________\n",
            "block7_sepconv2_act (Activation (None, 9, 9, 728)    0           block7_sepconv1_bn[0][0]         \n",
            "__________________________________________________________________________________________________\n",
            "block7_sepconv2 (SeparableConv2 (None, 9, 9, 728)    536536      block7_sepconv2_act[0][0]        \n",
            "__________________________________________________________________________________________________\n",
            "block7_sepconv2_bn (BatchNormal (None, 9, 9, 728)    2912        block7_sepconv2[0][0]            \n",
            "__________________________________________________________________________________________________\n",
            "block7_sepconv3_act (Activation (None, 9, 9, 728)    0           block7_sepconv2_bn[0][0]         \n",
            "__________________________________________________________________________________________________\n",
            "block7_sepconv3 (SeparableConv2 (None, 9, 9, 728)    536536      block7_sepconv3_act[0][0]        \n",
            "__________________________________________________________________________________________________\n",
            "block7_sepconv3_bn (BatchNormal (None, 9, 9, 728)    2912        block7_sepconv3[0][0]            \n",
            "__________________________________________________________________________________________________\n",
            "add_18 (Add)                    (None, 9, 9, 728)    0           block7_sepconv3_bn[0][0]         \n",
            "                                                                 add_17[0][0]                     \n",
            "__________________________________________________________________________________________________\n",
            "block8_sepconv1_act (Activation (None, 9, 9, 728)    0           add_18[0][0]                     \n",
            "__________________________________________________________________________________________________\n",
            "block8_sepconv1 (SeparableConv2 (None, 9, 9, 728)    536536      block8_sepconv1_act[0][0]        \n",
            "__________________________________________________________________________________________________\n",
            "block8_sepconv1_bn (BatchNormal (None, 9, 9, 728)    2912        block8_sepconv1[0][0]            \n",
            "__________________________________________________________________________________________________\n",
            "block8_sepconv2_act (Activation (None, 9, 9, 728)    0           block8_sepconv1_bn[0][0]         \n",
            "__________________________________________________________________________________________________\n",
            "block8_sepconv2 (SeparableConv2 (None, 9, 9, 728)    536536      block8_sepconv2_act[0][0]        \n",
            "__________________________________________________________________________________________________\n",
            "block8_sepconv2_bn (BatchNormal (None, 9, 9, 728)    2912        block8_sepconv2[0][0]            \n",
            "__________________________________________________________________________________________________\n",
            "block8_sepconv3_act (Activation (None, 9, 9, 728)    0           block8_sepconv2_bn[0][0]         \n",
            "__________________________________________________________________________________________________\n",
            "block8_sepconv3 (SeparableConv2 (None, 9, 9, 728)    536536      block8_sepconv3_act[0][0]        \n",
            "__________________________________________________________________________________________________\n",
            "block8_sepconv3_bn (BatchNormal (None, 9, 9, 728)    2912        block8_sepconv3[0][0]            \n",
            "__________________________________________________________________________________________________\n",
            "add_19 (Add)                    (None, 9, 9, 728)    0           block8_sepconv3_bn[0][0]         \n",
            "                                                                 add_18[0][0]                     \n",
            "__________________________________________________________________________________________________\n",
            "block9_sepconv1_act (Activation (None, 9, 9, 728)    0           add_19[0][0]                     \n",
            "__________________________________________________________________________________________________\n",
            "block9_sepconv1 (SeparableConv2 (None, 9, 9, 728)    536536      block9_sepconv1_act[0][0]        \n",
            "__________________________________________________________________________________________________\n",
            "block9_sepconv1_bn (BatchNormal (None, 9, 9, 728)    2912        block9_sepconv1[0][0]            \n",
            "__________________________________________________________________________________________________\n",
            "block9_sepconv2_act (Activation (None, 9, 9, 728)    0           block9_sepconv1_bn[0][0]         \n",
            "__________________________________________________________________________________________________\n",
            "block9_sepconv2 (SeparableConv2 (None, 9, 9, 728)    536536      block9_sepconv2_act[0][0]        \n",
            "__________________________________________________________________________________________________\n",
            "block9_sepconv2_bn (BatchNormal (None, 9, 9, 728)    2912        block9_sepconv2[0][0]            \n",
            "__________________________________________________________________________________________________\n",
            "block9_sepconv3_act (Activation (None, 9, 9, 728)    0           block9_sepconv2_bn[0][0]         \n",
            "__________________________________________________________________________________________________\n",
            "block9_sepconv3 (SeparableConv2 (None, 9, 9, 728)    536536      block9_sepconv3_act[0][0]        \n",
            "__________________________________________________________________________________________________\n",
            "block9_sepconv3_bn (BatchNormal (None, 9, 9, 728)    2912        block9_sepconv3[0][0]            \n",
            "__________________________________________________________________________________________________\n",
            "add_20 (Add)                    (None, 9, 9, 728)    0           block9_sepconv3_bn[0][0]         \n",
            "                                                                 add_19[0][0]                     \n",
            "__________________________________________________________________________________________________\n",
            "block10_sepconv1_act (Activatio (None, 9, 9, 728)    0           add_20[0][0]                     \n",
            "__________________________________________________________________________________________________\n",
            "block10_sepconv1 (SeparableConv (None, 9, 9, 728)    536536      block10_sepconv1_act[0][0]       \n",
            "__________________________________________________________________________________________________\n",
            "block10_sepconv1_bn (BatchNorma (None, 9, 9, 728)    2912        block10_sepconv1[0][0]           \n",
            "__________________________________________________________________________________________________\n",
            "block10_sepconv2_act (Activatio (None, 9, 9, 728)    0           block10_sepconv1_bn[0][0]        \n",
            "__________________________________________________________________________________________________\n",
            "block10_sepconv2 (SeparableConv (None, 9, 9, 728)    536536      block10_sepconv2_act[0][0]       \n",
            "__________________________________________________________________________________________________\n",
            "block10_sepconv2_bn (BatchNorma (None, 9, 9, 728)    2912        block10_sepconv2[0][0]           \n",
            "__________________________________________________________________________________________________\n",
            "block10_sepconv3_act (Activatio (None, 9, 9, 728)    0           block10_sepconv2_bn[0][0]        \n",
            "__________________________________________________________________________________________________\n",
            "block10_sepconv3 (SeparableConv (None, 9, 9, 728)    536536      block10_sepconv3_act[0][0]       \n",
            "__________________________________________________________________________________________________\n",
            "block10_sepconv3_bn (BatchNorma (None, 9, 9, 728)    2912        block10_sepconv3[0][0]           \n",
            "__________________________________________________________________________________________________\n",
            "add_21 (Add)                    (None, 9, 9, 728)    0           block10_sepconv3_bn[0][0]        \n",
            "                                                                 add_20[0][0]                     \n",
            "__________________________________________________________________________________________________\n",
            "block11_sepconv1_act (Activatio (None, 9, 9, 728)    0           add_21[0][0]                     \n",
            "__________________________________________________________________________________________________\n",
            "block11_sepconv1 (SeparableConv (None, 9, 9, 728)    536536      block11_sepconv1_act[0][0]       \n",
            "__________________________________________________________________________________________________\n",
            "block11_sepconv1_bn (BatchNorma (None, 9, 9, 728)    2912        block11_sepconv1[0][0]           \n",
            "__________________________________________________________________________________________________\n",
            "block11_sepconv2_act (Activatio (None, 9, 9, 728)    0           block11_sepconv1_bn[0][0]        \n",
            "__________________________________________________________________________________________________\n",
            "block11_sepconv2 (SeparableConv (None, 9, 9, 728)    536536      block11_sepconv2_act[0][0]       \n",
            "__________________________________________________________________________________________________\n",
            "block11_sepconv2_bn (BatchNorma (None, 9, 9, 728)    2912        block11_sepconv2[0][0]           \n",
            "__________________________________________________________________________________________________\n",
            "block11_sepconv3_act (Activatio (None, 9, 9, 728)    0           block11_sepconv2_bn[0][0]        \n",
            "__________________________________________________________________________________________________\n",
            "block11_sepconv3 (SeparableConv (None, 9, 9, 728)    536536      block11_sepconv3_act[0][0]       \n",
            "__________________________________________________________________________________________________\n",
            "block11_sepconv3_bn (BatchNorma (None, 9, 9, 728)    2912        block11_sepconv3[0][0]           \n",
            "__________________________________________________________________________________________________\n",
            "add_22 (Add)                    (None, 9, 9, 728)    0           block11_sepconv3_bn[0][0]        \n",
            "                                                                 add_21[0][0]                     \n",
            "__________________________________________________________________________________________________\n",
            "block12_sepconv1_act (Activatio (None, 9, 9, 728)    0           add_22[0][0]                     \n",
            "__________________________________________________________________________________________________\n",
            "block12_sepconv1 (SeparableConv (None, 9, 9, 728)    536536      block12_sepconv1_act[0][0]       \n",
            "__________________________________________________________________________________________________\n",
            "block12_sepconv1_bn (BatchNorma (None, 9, 9, 728)    2912        block12_sepconv1[0][0]           \n",
            "__________________________________________________________________________________________________\n",
            "block12_sepconv2_act (Activatio (None, 9, 9, 728)    0           block12_sepconv1_bn[0][0]        \n",
            "__________________________________________________________________________________________________\n",
            "block12_sepconv2 (SeparableConv (None, 9, 9, 728)    536536      block12_sepconv2_act[0][0]       \n",
            "__________________________________________________________________________________________________\n",
            "block12_sepconv2_bn (BatchNorma (None, 9, 9, 728)    2912        block12_sepconv2[0][0]           \n",
            "__________________________________________________________________________________________________\n",
            "block12_sepconv3_act (Activatio (None, 9, 9, 728)    0           block12_sepconv2_bn[0][0]        \n",
            "__________________________________________________________________________________________________\n",
            "block12_sepconv3 (SeparableConv (None, 9, 9, 728)    536536      block12_sepconv3_act[0][0]       \n",
            "__________________________________________________________________________________________________\n",
            "block12_sepconv3_bn (BatchNorma (None, 9, 9, 728)    2912        block12_sepconv3[0][0]           \n",
            "__________________________________________________________________________________________________\n",
            "add_23 (Add)                    (None, 9, 9, 728)    0           block12_sepconv3_bn[0][0]        \n",
            "                                                                 add_22[0][0]                     \n",
            "__________________________________________________________________________________________________\n",
            "block13_sepconv1_act (Activatio (None, 9, 9, 728)    0           add_23[0][0]                     \n",
            "__________________________________________________________________________________________________\n",
            "block13_sepconv1 (SeparableConv (None, 9, 9, 728)    536536      block13_sepconv1_act[0][0]       \n",
            "__________________________________________________________________________________________________\n",
            "block13_sepconv1_bn (BatchNorma (None, 9, 9, 728)    2912        block13_sepconv1[0][0]           \n",
            "__________________________________________________________________________________________________\n",
            "block13_sepconv2_act (Activatio (None, 9, 9, 728)    0           block13_sepconv1_bn[0][0]        \n",
            "__________________________________________________________________________________________________\n",
            "block13_sepconv2 (SeparableConv (None, 9, 9, 1024)   752024      block13_sepconv2_act[0][0]       \n",
            "__________________________________________________________________________________________________\n",
            "block13_sepconv2_bn (BatchNorma (None, 9, 9, 1024)   4096        block13_sepconv2[0][0]           \n",
            "__________________________________________________________________________________________________\n",
            "conv2d_8 (Conv2D)               (None, 5, 5, 1024)   745472      add_23[0][0]                     \n",
            "__________________________________________________________________________________________________\n",
            "block13_pool (MaxPooling2D)     (None, 5, 5, 1024)   0           block13_sepconv2_bn[0][0]        \n",
            "__________________________________________________________________________________________________\n",
            "batch_normalization_8 (BatchNor (None, 5, 5, 1024)   4096        conv2d_8[0][0]                   \n",
            "__________________________________________________________________________________________________\n",
            "add_24 (Add)                    (None, 5, 5, 1024)   0           block13_pool[0][0]               \n",
            "                                                                 batch_normalization_8[0][0]      \n",
            "__________________________________________________________________________________________________\n",
            "block14_sepconv1 (SeparableConv (None, 5, 5, 1536)   1582080     add_24[0][0]                     \n",
            "__________________________________________________________________________________________________\n",
            "block14_sepconv1_bn (BatchNorma (None, 5, 5, 1536)   6144        block14_sepconv1[0][0]           \n",
            "__________________________________________________________________________________________________\n",
            "block14_sepconv1_act (Activatio (None, 5, 5, 1536)   0           block14_sepconv1_bn[0][0]        \n",
            "__________________________________________________________________________________________________\n",
            "block14_sepconv2 (SeparableConv (None, 5, 5, 2048)   3159552     block14_sepconv1_act[0][0]       \n",
            "__________________________________________________________________________________________________\n",
            "block14_sepconv2_bn (BatchNorma (None, 5, 5, 2048)   8192        block14_sepconv2[0][0]           \n",
            "__________________________________________________________________________________________________\n",
            "block14_sepconv2_act (Activatio (None, 5, 5, 2048)   0           block14_sepconv2_bn[0][0]        \n",
            "==================================================================================================\n",
            "Total params: 20,861,480\n",
            "Trainable params: 20,806,952\n",
            "Non-trainable params: 54,528\n",
            "__________________________________________________________________________________________________\n"
          ],
          "name": "stdout"
        }
      ]
    },
    {
      "cell_type": "markdown",
      "metadata": {
        "id": "D6OBHOO9q1ou",
        "colab_type": "text"
      },
      "source": [
        "### Freeze the convolutional base"
      ]
    },
    {
      "cell_type": "code",
      "metadata": {
        "id": "UleRo4Dpq6Ld",
        "colab_type": "code",
        "colab": {}
      },
      "source": [
        "conv_base.trainable = False"
      ],
      "execution_count": 0,
      "outputs": []
    },
    {
      "cell_type": "markdown",
      "metadata": {
        "id": "Qfx6PqhPrb7Q",
        "colab_type": "text"
      },
      "source": [
        "### Concatenate the convolutional base and densely connected layers"
      ]
    },
    {
      "cell_type": "code",
      "metadata": {
        "id": "qUpmocDAO3xm",
        "colab_type": "code",
        "colab": {}
      },
      "source": [
        "from keras import layers\n",
        "from keras import models\n",
        "from keras import optimizers\n",
        "\n",
        "model = models.Sequential()\n",
        "model.add(conv_base)\n",
        "model.add(layers.Flatten())\n",
        "model.add(layers.Dense(256, activation='relu'))\n",
        "#model.add(layers.Dropout(0.1))\n",
        "model.add(layers.Dense(1, activation='sigmoid'))"
      ],
      "execution_count": 0,
      "outputs": []
    },
    {
      "cell_type": "code",
      "metadata": {
        "id": "Fh6gZSeAjF7c",
        "colab_type": "code",
        "outputId": "76bfbba8-30c7-4146-e0b6-23bc1dccdb22",
        "colab": {
          "base_uri": "https://localhost:8080/",
          "height": 308
        }
      },
      "source": [
        "model.summary()"
      ],
      "execution_count": 26,
      "outputs": [
        {
          "output_type": "stream",
          "text": [
            "Model: \"sequential_2\"\n",
            "_________________________________________________________________\n",
            "Layer (type)                 Output Shape              Param #   \n",
            "=================================================================\n",
            "xception (Model)             (None, 5, 5, 2048)        20861480  \n",
            "_________________________________________________________________\n",
            "flatten_2 (Flatten)          (None, 51200)             0         \n",
            "_________________________________________________________________\n",
            "dense_3 (Dense)              (None, 256)               13107456  \n",
            "_________________________________________________________________\n",
            "dense_4 (Dense)              (None, 1)                 257       \n",
            "=================================================================\n",
            "Total params: 33,969,193\n",
            "Trainable params: 13,107,713\n",
            "Non-trainable params: 20,861,480\n",
            "_________________________________________________________________\n"
          ],
          "name": "stdout"
        }
      ]
    },
    {
      "cell_type": "markdown",
      "metadata": {
        "id": "eZjBiddhi5Qj",
        "colab_type": "text"
      },
      "source": [
        "## Train the model end to end with frozen convolutional base"
      ]
    },
    {
      "cell_type": "code",
      "metadata": {
        "id": "tfAQlC2Oi41L",
        "colab_type": "code",
        "outputId": "915fc749-27fc-45ce-feab-483e42bbe4a7",
        "colab": {
          "base_uri": "https://localhost:8080/",
          "height": 1000
        }
      },
      "source": [
        "from keras.preprocessing.image import ImageDataGenerator\n",
        "from keras import optimizers\n",
        "\n",
        "# data augmentation\n",
        "\n",
        "train_datagen = ImageDataGenerator(\n",
        "    rescale=1./255, \n",
        "    rotation_range=40,\n",
        "    width_shift_range=0.2,\n",
        "    height_shift_range=0.2,\n",
        "    shear_range=0.2,\n",
        "    zoom_range=0.2,\n",
        "    horizontal_flip=True,\n",
        "    fill_mode='nearest'\n",
        ")\n",
        "\n",
        "train_generator = train_datagen.flow_from_directory(\n",
        "    train_dir,\n",
        "    target_size=(150, 150),\n",
        "    batch_size=20,\n",
        "    class_mode='binary')\n",
        "\n",
        "validation_datagen = ImageDataGenerator(rescale=1./255)\n",
        "\n",
        "validation_generator = validation_datagen.flow_from_directory(\n",
        "    validation_dir,\n",
        "    target_size=(150, 150),\n",
        "    batch_size=20,\n",
        "    class_mode='binary')\n",
        "\n",
        "# compile model\n",
        "\n",
        "model.compile(\n",
        "    loss='binary_crossentropy', \n",
        "    optimizer=optimizers.RMSprop(lr=2e-5), \n",
        "    metrics=['acc'])\n",
        "\n",
        "# train\n",
        "\n",
        "history = model.fit_generator(\n",
        "    train_generator,\n",
        "    steps_per_epoch=100,\n",
        "    epochs=30,\n",
        "    validation_data=validation_generator,\n",
        "    validation_steps=50\n",
        ")"
      ],
      "execution_count": 28,
      "outputs": [
        {
          "output_type": "stream",
          "text": [
            "Found 2000 images belonging to 2 classes.\n",
            "Found 1000 images belonging to 2 classes.\n",
            "Epoch 1/30\n",
            "100/100 [==============================] - 20s 197ms/step - loss: 0.4528 - acc: 0.7685 - val_loss: 0.3956 - val_acc: 0.9590\n",
            "Epoch 2/30\n",
            "100/100 [==============================] - 17s 169ms/step - loss: 0.3584 - acc: 0.8360 - val_loss: 0.0025 - val_acc: 0.9650\n",
            "Epoch 3/30\n",
            "100/100 [==============================] - 17s 169ms/step - loss: 0.3552 - acc: 0.8430 - val_loss: 0.6127 - val_acc: 0.9430\n",
            "Epoch 4/30\n",
            "100/100 [==============================] - 17s 170ms/step - loss: 0.3629 - acc: 0.8330 - val_loss: 0.0163 - val_acc: 0.9600\n",
            "Epoch 5/30\n",
            "100/100 [==============================] - 17s 169ms/step - loss: 0.3173 - acc: 0.8730 - val_loss: 0.0011 - val_acc: 0.9650\n",
            "Epoch 6/30\n",
            "100/100 [==============================] - 17s 168ms/step - loss: 0.3032 - acc: 0.8700 - val_loss: 0.2773 - val_acc: 0.9360\n",
            "Epoch 7/30\n",
            "100/100 [==============================] - 17s 168ms/step - loss: 0.3175 - acc: 0.8660 - val_loss: 0.2687 - val_acc: 0.9630\n",
            "Epoch 8/30\n",
            "100/100 [==============================] - 17s 168ms/step - loss: 0.3226 - acc: 0.8530 - val_loss: 0.2830 - val_acc: 0.9690\n",
            "Epoch 9/30\n",
            "100/100 [==============================] - 17s 170ms/step - loss: 0.3098 - acc: 0.8655 - val_loss: 0.1500 - val_acc: 0.9640\n",
            "Epoch 10/30\n",
            "100/100 [==============================] - 17s 168ms/step - loss: 0.2962 - acc: 0.8685 - val_loss: 2.7289e-04 - val_acc: 0.9680\n",
            "Epoch 11/30\n",
            "100/100 [==============================] - 17s 169ms/step - loss: 0.3194 - acc: 0.8540 - val_loss: 4.8411e-05 - val_acc: 0.9580\n",
            "Epoch 12/30\n",
            "100/100 [==============================] - 17s 168ms/step - loss: 0.3033 - acc: 0.8635 - val_loss: 0.0151 - val_acc: 0.9700\n",
            "Epoch 13/30\n",
            "100/100 [==============================] - 17s 169ms/step - loss: 0.2866 - acc: 0.8740 - val_loss: 0.0026 - val_acc: 0.9660\n",
            "Epoch 14/30\n",
            "100/100 [==============================] - 17s 168ms/step - loss: 0.2832 - acc: 0.8750 - val_loss: 0.0693 - val_acc: 0.9640\n",
            "Epoch 15/30\n",
            "100/100 [==============================] - 17s 167ms/step - loss: 0.2876 - acc: 0.8815 - val_loss: 5.1216e-08 - val_acc: 0.9710\n",
            "Epoch 16/30\n",
            "100/100 [==============================] - 17s 170ms/step - loss: 0.2828 - acc: 0.8800 - val_loss: 0.0281 - val_acc: 0.9710\n",
            "Epoch 17/30\n",
            "100/100 [==============================] - 17s 169ms/step - loss: 0.2880 - acc: 0.8830 - val_loss: 0.0204 - val_acc: 0.9600\n",
            "Epoch 18/30\n",
            "100/100 [==============================] - 17s 169ms/step - loss: 0.2930 - acc: 0.8670 - val_loss: 7.5843e-06 - val_acc: 0.9720\n",
            "Epoch 19/30\n",
            "100/100 [==============================] - 17s 168ms/step - loss: 0.2733 - acc: 0.8825 - val_loss: 0.1418 - val_acc: 0.9680\n",
            "Epoch 20/30\n",
            "100/100 [==============================] - 17s 168ms/step - loss: 0.2718 - acc: 0.8820 - val_loss: 0.0010 - val_acc: 0.9690\n",
            "Epoch 21/30\n",
            "100/100 [==============================] - 17s 169ms/step - loss: 0.2693 - acc: 0.8865 - val_loss: 1.1709e-06 - val_acc: 0.9700\n",
            "Epoch 22/30\n",
            "100/100 [==============================] - 17s 169ms/step - loss: 0.2763 - acc: 0.8875 - val_loss: 0.0196 - val_acc: 0.9670\n",
            "Epoch 23/30\n",
            "100/100 [==============================] - 17s 170ms/step - loss: 0.2701 - acc: 0.8860 - val_loss: 7.6014e-04 - val_acc: 0.9700\n",
            "Epoch 24/30\n",
            "100/100 [==============================] - 17s 168ms/step - loss: 0.2619 - acc: 0.8875 - val_loss: 0.5626 - val_acc: 0.9720\n",
            "Epoch 25/30\n",
            "100/100 [==============================] - 17s 169ms/step - loss: 0.2600 - acc: 0.8855 - val_loss: 1.2037 - val_acc: 0.9610\n",
            "Epoch 26/30\n",
            "100/100 [==============================] - 17s 167ms/step - loss: 0.2735 - acc: 0.8785 - val_loss: 0.4983 - val_acc: 0.9700\n",
            "Epoch 27/30\n",
            "100/100 [==============================] - 17s 169ms/step - loss: 0.2497 - acc: 0.8885 - val_loss: 1.5034e-05 - val_acc: 0.9690\n",
            "Epoch 28/30\n",
            "100/100 [==============================] - 17s 170ms/step - loss: 0.2759 - acc: 0.8820 - val_loss: 3.7269e-05 - val_acc: 0.9700\n",
            "Epoch 29/30\n",
            "100/100 [==============================] - 17s 170ms/step - loss: 0.2627 - acc: 0.8990 - val_loss: 1.3721e-05 - val_acc: 0.9700\n",
            "Epoch 30/30\n",
            "100/100 [==============================] - 17s 167ms/step - loss: 0.2709 - acc: 0.8895 - val_loss: 0.6403 - val_acc: 0.9700\n"
          ],
          "name": "stdout"
        }
      ]
    },
    {
      "cell_type": "markdown",
      "metadata": {
        "id": "xqRc_vHKc92U",
        "colab_type": "text"
      },
      "source": [
        "## Display curves of loss and accuracy during training"
      ]
    },
    {
      "cell_type": "code",
      "metadata": {
        "id": "ybWwdzz9bwuQ",
        "colab_type": "code",
        "outputId": "60206362-638c-46f1-862b-1ae7d811b715",
        "colab": {
          "base_uri": "https://localhost:8080/",
          "height": 545
        }
      },
      "source": [
        "%matplotlib inline\n",
        "\n",
        "import matplotlib.pyplot as plt\n",
        "\n",
        "acc = history.history['acc']\n",
        "val_acc = history.history['val_acc']\n",
        "\n",
        "loss = history.history['loss']\n",
        "val_loss = history.history['val_loss']\n",
        "\n",
        "epochs = range(1, len(acc) + 1)\n",
        "\n",
        "# training and validation accuracy\n",
        "\n",
        "plt.plot(epochs, acc, 'bo', label='training acc')\n",
        "plt.plot(epochs, val_acc, 'b', label='validation acc')\n",
        "plt.title('training and validation accuracy')\n",
        "plt.legend()\n",
        "\n",
        "plt.figure()\n",
        "\n",
        "# training and validation loss\n",
        "\n",
        "plt.plot(epochs, loss, 'bo', label='training loss')\n",
        "plt.plot(epochs, val_loss, 'b', label='validation loss')\n",
        "plt.title('training and validation loss')\n",
        "plt.legend()\n",
        "\n",
        "plt.show()"
      ],
      "execution_count": 29,
      "outputs": [
        {
          "output_type": "display_data",
          "data": {
            "image/png": "[encoded data removed]",
            "text/plain": [
              "<Figure size 432x288 with 1 Axes>"
            ]
          },
          "metadata": {
            "tags": [],
            "needs_background": "light"
          }
        },
        {
          "output_type": "display_data",
          "data": {
            "image/png": "[encoded data removed]",
            "text/plain": [
              "<Figure size 432x288 with 1 Axes>"
            ]
          },
          "metadata": {
            "tags": [],
            "needs_background": "light"
          }
        }
      ]
    },
    {
      "cell_type": "markdown",
      "metadata": {
        "id": "lOWsxpey8lN0",
        "colab_type": "text"
      },
      "source": [
        "## Fine-tuning"
      ]
    },
    {
      "cell_type": "markdown",
      "metadata": {
        "id": "v1j_xO1BGrlY",
        "colab_type": "text"
      },
      "source": [
        "This notebook shall serve as a compliment for the second one. Here we are demonstrating what would happen should we start training from a deeper layer in or convolutional base. The ending goal of this is to end up with a model that suffers from overfitting. "
      ]
    },
    {
      "cell_type": "code",
      "metadata": {
        "id": "PwkVMx8N8qMw",
        "colab_type": "code",
        "colab": {}
      },
      "source": [
        "conv_base.trainable = True\n",
        "\n",
        "set_trainable = False\n",
        "for layer in conv_base.layers:\n",
        "  if layer.name == 'conv2d_1':\n",
        "    set_trainable = True\n",
        "  if set_trainable:\n",
        "    layer.trainable = True\n",
        "  else:\n",
        "    layer.trainable = False"
      ],
      "execution_count": 0,
      "outputs": []
    },
    {
      "cell_type": "code",
      "metadata": {
        "id": "DyN-J7rs9cvo",
        "colab_type": "code",
        "outputId": "ec9704a1-9d26-42ee-9674-3690ec1d193e",
        "colab": {
          "base_uri": "https://localhost:8080/",
          "height": 1000
        }
      },
      "source": [
        "# compile model\n",
        "\n",
        "model.compile(\n",
        "    loss='binary_crossentropy',\n",
        "    #\n",
        "    # choose a smaller learning rate\n",
        "    #\n",
        "    optimizer=optimizers.RMSprop(lr=1e-5), \n",
        "    metrics=['acc'])\n",
        "\n",
        "# train\n",
        "\n",
        "history = model.fit_generator(\n",
        "    train_generator,\n",
        "    steps_per_epoch=100,\n",
        "    epochs=100,\n",
        "    validation_data=validation_generator,\n",
        "    validation_steps=50)"
      ],
      "execution_count": 32,
      "outputs": [
        {
          "output_type": "stream",
          "text": [
            "Epoch 1/100\n",
            "100/100 [==============================] - 20s 203ms/step - loss: 0.2625 - acc: 0.8880 - val_loss: 0.2167 - val_acc: 0.9400\n",
            "Epoch 2/100\n",
            "100/100 [==============================] - 17s 170ms/step - loss: 0.2447 - acc: 0.8985 - val_loss: 0.0081 - val_acc: 0.9430\n",
            "Epoch 3/100\n",
            "100/100 [==============================] - 17s 171ms/step - loss: 0.2379 - acc: 0.8990 - val_loss: 0.0567 - val_acc: 0.9350\n",
            "Epoch 4/100\n",
            "100/100 [==============================] - 17s 172ms/step - loss: 0.2555 - acc: 0.8990 - val_loss: 0.2681 - val_acc: 0.9320\n",
            "Epoch 5/100\n",
            "100/100 [==============================] - 17s 170ms/step - loss: 0.2510 - acc: 0.8995 - val_loss: 0.2096 - val_acc: 0.9330\n",
            "Epoch 6/100\n",
            "100/100 [==============================] - 17s 171ms/step - loss: 0.2254 - acc: 0.9055 - val_loss: 0.0599 - val_acc: 0.9260\n",
            "Epoch 7/100\n",
            "100/100 [==============================] - 17s 170ms/step - loss: 0.2470 - acc: 0.8990 - val_loss: 0.2449 - val_acc: 0.9400\n",
            "Epoch 8/100\n",
            "100/100 [==============================] - 17s 170ms/step - loss: 0.2335 - acc: 0.9045 - val_loss: 0.2945 - val_acc: 0.9250\n",
            "Epoch 9/100\n",
            "100/100 [==============================] - 17s 170ms/step - loss: 0.2480 - acc: 0.8995 - val_loss: 0.2207 - val_acc: 0.9370\n",
            "Epoch 10/100\n",
            "100/100 [==============================] - 17s 171ms/step - loss: 0.2465 - acc: 0.8965 - val_loss: 0.0667 - val_acc: 0.9390\n",
            "Epoch 11/100\n",
            "100/100 [==============================] - 17s 170ms/step - loss: 0.2576 - acc: 0.9030 - val_loss: 0.5771 - val_acc: 0.9390\n",
            "Epoch 12/100\n",
            "100/100 [==============================] - 17s 172ms/step - loss: 0.2327 - acc: 0.9050 - val_loss: 0.0431 - val_acc: 0.9280\n",
            "Epoch 13/100\n",
            "100/100 [==============================] - 17s 172ms/step - loss: 0.2430 - acc: 0.9060 - val_loss: 0.1138 - val_acc: 0.9380\n",
            "Epoch 14/100\n",
            "100/100 [==============================] - 17s 170ms/step - loss: 0.2399 - acc: 0.9045 - val_loss: 0.1616 - val_acc: 0.9400\n",
            "Epoch 15/100\n",
            "100/100 [==============================] - 17s 169ms/step - loss: 0.2423 - acc: 0.9025 - val_loss: 0.0450 - val_acc: 0.9210\n",
            "Epoch 16/100\n",
            "100/100 [==============================] - 17s 170ms/step - loss: 0.2248 - acc: 0.9095 - val_loss: 0.0225 - val_acc: 0.9220\n",
            "Epoch 17/100\n",
            "100/100 [==============================] - 17s 169ms/step - loss: 0.2188 - acc: 0.9105 - val_loss: 0.6063 - val_acc: 0.9320\n",
            "Epoch 18/100\n",
            "100/100 [==============================] - 17s 171ms/step - loss: 0.2440 - acc: 0.9025 - val_loss: 0.5443 - val_acc: 0.9240\n",
            "Epoch 19/100\n",
            "100/100 [==============================] - 17s 170ms/step - loss: 0.2395 - acc: 0.9000 - val_loss: 0.0879 - val_acc: 0.9310\n",
            "Epoch 20/100\n",
            "100/100 [==============================] - 17s 169ms/step - loss: 0.2516 - acc: 0.8990 - val_loss: 0.3887 - val_acc: 0.9330\n",
            "Epoch 21/100\n",
            "100/100 [==============================] - 17s 169ms/step - loss: 0.2314 - acc: 0.9055 - val_loss: 0.2514 - val_acc: 0.9360\n",
            "Epoch 22/100\n",
            "100/100 [==============================] - 17s 171ms/step - loss: 0.2372 - acc: 0.9045 - val_loss: 0.0475 - val_acc: 0.9260\n",
            "Epoch 23/100\n",
            "100/100 [==============================] - 17s 170ms/step - loss: 0.2505 - acc: 0.9020 - val_loss: 0.2484 - val_acc: 0.9230\n",
            "Epoch 24/100\n",
            "100/100 [==============================] - 17s 169ms/step - loss: 0.2400 - acc: 0.9070 - val_loss: 0.1748 - val_acc: 0.9200\n",
            "Epoch 25/100\n",
            "100/100 [==============================] - 17s 171ms/step - loss: 0.2244 - acc: 0.9085 - val_loss: 0.0624 - val_acc: 0.9230\n",
            "Epoch 26/100\n",
            "100/100 [==============================] - 17s 169ms/step - loss: 0.2376 - acc: 0.9000 - val_loss: 0.2409 - val_acc: 0.9300\n",
            "Epoch 27/100\n",
            "100/100 [==============================] - 17s 170ms/step - loss: 0.2218 - acc: 0.9080 - val_loss: 0.0176 - val_acc: 0.9390\n",
            "Epoch 28/100\n",
            "100/100 [==============================] - 17s 169ms/step - loss: 0.2209 - acc: 0.9130 - val_loss: 0.2692 - val_acc: 0.9320\n",
            "Epoch 29/100\n",
            "100/100 [==============================] - 17s 171ms/step - loss: 0.2254 - acc: 0.9110 - val_loss: 0.1769 - val_acc: 0.9400\n",
            "Epoch 30/100\n",
            "100/100 [==============================] - 17s 171ms/step - loss: 0.2194 - acc: 0.9100 - val_loss: 0.1755 - val_acc: 0.9280\n",
            "Epoch 31/100\n",
            "100/100 [==============================] - 17s 171ms/step - loss: 0.2470 - acc: 0.8995 - val_loss: 0.1498 - val_acc: 0.9250\n",
            "Epoch 32/100\n",
            "100/100 [==============================] - 17s 170ms/step - loss: 0.2202 - acc: 0.9050 - val_loss: 0.0279 - val_acc: 0.9250\n",
            "Epoch 33/100\n",
            "100/100 [==============================] - 17s 169ms/step - loss: 0.2271 - acc: 0.9110 - val_loss: 0.0846 - val_acc: 0.9320\n",
            "Epoch 34/100\n",
            "100/100 [==============================] - 17s 169ms/step - loss: 0.2310 - acc: 0.9080 - val_loss: 0.0899 - val_acc: 0.9320\n",
            "Epoch 35/100\n",
            "100/100 [==============================] - 17s 170ms/step - loss: 0.2326 - acc: 0.8980 - val_loss: 0.3509 - val_acc: 0.9290\n",
            "Epoch 36/100\n",
            "100/100 [==============================] - 17s 169ms/step - loss: 0.2166 - acc: 0.9115 - val_loss: 0.1354 - val_acc: 0.9290\n",
            "Epoch 37/100\n",
            "100/100 [==============================] - 17s 171ms/step - loss: 0.2142 - acc: 0.9125 - val_loss: 0.1019 - val_acc: 0.9280\n",
            "Epoch 38/100\n",
            "100/100 [==============================] - 17s 170ms/step - loss: 0.2120 - acc: 0.9090 - val_loss: 0.0665 - val_acc: 0.9370\n",
            "Epoch 39/100\n",
            "100/100 [==============================] - 17s 169ms/step - loss: 0.2380 - acc: 0.9125 - val_loss: 0.1639 - val_acc: 0.9210\n",
            "Epoch 40/100\n",
            "100/100 [==============================] - 17s 168ms/step - loss: 0.2178 - acc: 0.9110 - val_loss: 0.4682 - val_acc: 0.9360\n",
            "Epoch 41/100\n",
            "100/100 [==============================] - 17s 170ms/step - loss: 0.2181 - acc: 0.9130 - val_loss: 0.1801 - val_acc: 0.9320\n",
            "Epoch 42/100\n",
            "100/100 [==============================] - 17s 170ms/step - loss: 0.2348 - acc: 0.9075 - val_loss: 0.0241 - val_acc: 0.9330\n",
            "Epoch 43/100\n",
            "100/100 [==============================] - 17s 168ms/step - loss: 0.2238 - acc: 0.9130 - val_loss: 0.0486 - val_acc: 0.9190\n",
            "Epoch 44/100\n",
            "100/100 [==============================] - 17s 168ms/step - loss: 0.1976 - acc: 0.9140 - val_loss: 0.1471 - val_acc: 0.9300\n",
            "Epoch 45/100\n",
            "100/100 [==============================] - 17s 170ms/step - loss: 0.2260 - acc: 0.9065 - val_loss: 0.1450 - val_acc: 0.9330\n",
            "Epoch 46/100\n",
            "100/100 [==============================] - 17s 169ms/step - loss: 0.1858 - acc: 0.9230 - val_loss: 1.1336 - val_acc: 0.9260\n",
            "Epoch 47/100\n",
            "100/100 [==============================] - 17s 169ms/step - loss: 0.2060 - acc: 0.9205 - val_loss: 0.3054 - val_acc: 0.9370\n",
            "Epoch 48/100\n",
            "100/100 [==============================] - 17s 170ms/step - loss: 0.2166 - acc: 0.9185 - val_loss: 0.3707 - val_acc: 0.9210\n",
            "Epoch 49/100\n",
            "100/100 [==============================] - 17s 172ms/step - loss: 0.2183 - acc: 0.9130 - val_loss: 0.1219 - val_acc: 0.9350\n",
            "Epoch 50/100\n",
            "100/100 [==============================] - 17s 169ms/step - loss: 0.2013 - acc: 0.9135 - val_loss: 0.0784 - val_acc: 0.9360\n",
            "Epoch 51/100\n",
            "100/100 [==============================] - 17s 170ms/step - loss: 0.2062 - acc: 0.9145 - val_loss: 0.3692 - val_acc: 0.9160\n",
            "Epoch 52/100\n",
            "100/100 [==============================] - 17s 169ms/step - loss: 0.2193 - acc: 0.9075 - val_loss: 0.2884 - val_acc: 0.9340\n",
            "Epoch 53/100\n",
            "100/100 [==============================] - 17s 170ms/step - loss: 0.2273 - acc: 0.9015 - val_loss: 0.1440 - val_acc: 0.9310\n",
            "Epoch 54/100\n",
            "100/100 [==============================] - 17s 169ms/step - loss: 0.2375 - acc: 0.9020 - val_loss: 0.2367 - val_acc: 0.9250\n",
            "Epoch 55/100\n",
            "100/100 [==============================] - 17s 169ms/step - loss: 0.2178 - acc: 0.9125 - val_loss: 0.1216 - val_acc: 0.9280\n",
            "Epoch 56/100\n",
            "100/100 [==============================] - 17s 171ms/step - loss: 0.2093 - acc: 0.9130 - val_loss: 0.0854 - val_acc: 0.9380\n",
            "Epoch 57/100\n",
            "100/100 [==============================] - 17s 169ms/step - loss: 0.2173 - acc: 0.9170 - val_loss: 0.0559 - val_acc: 0.9330\n",
            "Epoch 58/100\n",
            "100/100 [==============================] - 17s 169ms/step - loss: 0.2072 - acc: 0.9135 - val_loss: 0.3391 - val_acc: 0.9320\n",
            "Epoch 59/100\n",
            "100/100 [==============================] - 17s 169ms/step - loss: 0.2018 - acc: 0.9190 - val_loss: 0.0966 - val_acc: 0.9300\n",
            "Epoch 60/100\n",
            "100/100 [==============================] - 17s 171ms/step - loss: 0.2134 - acc: 0.9090 - val_loss: 0.0735 - val_acc: 0.9340\n",
            "Epoch 61/100\n",
            "100/100 [==============================] - 17s 169ms/step - loss: 0.2310 - acc: 0.8985 - val_loss: 0.0832 - val_acc: 0.9360\n",
            "Epoch 62/100\n",
            "100/100 [==============================] - 17s 170ms/step - loss: 0.1913 - acc: 0.9140 - val_loss: 0.3629 - val_acc: 0.9320\n",
            "Epoch 63/100\n",
            "100/100 [==============================] - 17s 170ms/step - loss: 0.2297 - acc: 0.9070 - val_loss: 0.1272 - val_acc: 0.9340\n",
            "Epoch 64/100\n",
            "100/100 [==============================] - 17s 170ms/step - loss: 0.1971 - acc: 0.9155 - val_loss: 0.0338 - val_acc: 0.9220\n",
            "Epoch 65/100\n",
            "100/100 [==============================] - 17s 171ms/step - loss: 0.2055 - acc: 0.9165 - val_loss: 0.0759 - val_acc: 0.9310\n",
            "Epoch 66/100\n",
            "100/100 [==============================] - 17s 170ms/step - loss: 0.1888 - acc: 0.9230 - val_loss: 0.2332 - val_acc: 0.9260\n",
            "Epoch 67/100\n",
            "100/100 [==============================] - 17s 173ms/step - loss: 0.2076 - acc: 0.9150 - val_loss: 0.3484 - val_acc: 0.9320\n",
            "Epoch 68/100\n",
            "100/100 [==============================] - 17s 171ms/step - loss: 0.1997 - acc: 0.9160 - val_loss: 0.1195 - val_acc: 0.9310\n",
            "Epoch 69/100\n",
            "100/100 [==============================] - 17s 170ms/step - loss: 0.1991 - acc: 0.9220 - val_loss: 0.1365 - val_acc: 0.9220\n",
            "Epoch 70/100\n",
            "100/100 [==============================] - 17s 172ms/step - loss: 0.2094 - acc: 0.9150 - val_loss: 0.0881 - val_acc: 0.9350\n",
            "Epoch 71/100\n",
            "100/100 [==============================] - 17s 171ms/step - loss: 0.2096 - acc: 0.9155 - val_loss: 0.0947 - val_acc: 0.9400\n",
            "Epoch 72/100\n",
            "100/100 [==============================] - 17s 170ms/step - loss: 0.1858 - acc: 0.9285 - val_loss: 0.2061 - val_acc: 0.9220\n",
            "Epoch 73/100\n",
            "100/100 [==============================] - 17s 170ms/step - loss: 0.2154 - acc: 0.9130 - val_loss: 0.0528 - val_acc: 0.9350\n",
            "Epoch 74/100\n",
            "100/100 [==============================] - 17s 170ms/step - loss: 0.2264 - acc: 0.9035 - val_loss: 0.5275 - val_acc: 0.9300\n",
            "Epoch 75/100\n",
            "100/100 [==============================] - 17s 171ms/step - loss: 0.1856 - acc: 0.9265 - val_loss: 0.3763 - val_acc: 0.9300\n",
            "Epoch 76/100\n",
            "100/100 [==============================] - 17s 169ms/step - loss: 0.2045 - acc: 0.9220 - val_loss: 0.6133 - val_acc: 0.9260\n",
            "Epoch 77/100\n",
            "100/100 [==============================] - 17s 170ms/step - loss: 0.2256 - acc: 0.9120 - val_loss: 0.1880 - val_acc: 0.9060\n",
            "Epoch 78/100\n",
            "100/100 [==============================] - 17s 169ms/step - loss: 0.2217 - acc: 0.9100 - val_loss: 0.9761 - val_acc: 0.9290\n",
            "Epoch 79/100\n",
            "100/100 [==============================] - 17s 171ms/step - loss: 0.2218 - acc: 0.9150 - val_loss: 0.1041 - val_acc: 0.9200\n",
            "Epoch 80/100\n",
            "100/100 [==============================] - 17s 170ms/step - loss: 0.2124 - acc: 0.9215 - val_loss: 0.0203 - val_acc: 0.9390\n",
            "Epoch 81/100\n",
            "100/100 [==============================] - 17s 169ms/step - loss: 0.2079 - acc: 0.9145 - val_loss: 0.2432 - val_acc: 0.9310\n",
            "Epoch 82/100\n",
            "100/100 [==============================] - 17s 170ms/step - loss: 0.1961 - acc: 0.9215 - val_loss: 0.0766 - val_acc: 0.9380\n",
            "Epoch 83/100\n",
            "100/100 [==============================] - 17s 169ms/step - loss: 0.2115 - acc: 0.9135 - val_loss: 0.2838 - val_acc: 0.9340\n",
            "Epoch 84/100\n",
            "100/100 [==============================] - 17s 170ms/step - loss: 0.2146 - acc: 0.9080 - val_loss: 0.2969 - val_acc: 0.9350\n",
            "Epoch 85/100\n",
            "100/100 [==============================] - 17s 173ms/step - loss: 0.2125 - acc: 0.9170 - val_loss: 0.0757 - val_acc: 0.9270\n",
            "Epoch 86/100\n",
            "100/100 [==============================] - 17s 169ms/step - loss: 0.1858 - acc: 0.9365 - val_loss: 0.1749 - val_acc: 0.9290\n",
            "Epoch 87/100\n",
            "100/100 [==============================] - 17s 169ms/step - loss: 0.2106 - acc: 0.9210 - val_loss: 0.2219 - val_acc: 0.9260\n",
            "Epoch 88/100\n",
            "100/100 [==============================] - 17s 169ms/step - loss: 0.2192 - acc: 0.9140 - val_loss: 0.8300 - val_acc: 0.9290\n",
            "Epoch 89/100\n",
            "100/100 [==============================] - 17s 171ms/step - loss: 0.1954 - acc: 0.9235 - val_loss: 0.1729 - val_acc: 0.9180\n",
            "Epoch 90/100\n",
            "100/100 [==============================] - 17s 170ms/step - loss: 0.2109 - acc: 0.9170 - val_loss: 0.1066 - val_acc: 0.9290\n",
            "Epoch 91/100\n",
            "100/100 [==============================] - 17s 169ms/step - loss: 0.2002 - acc: 0.9230 - val_loss: 0.1387 - val_acc: 0.9350\n",
            "Epoch 92/100\n",
            "100/100 [==============================] - 17s 169ms/step - loss: 0.1839 - acc: 0.9275 - val_loss: 0.2472 - val_acc: 0.9350\n",
            "Epoch 93/100\n",
            "100/100 [==============================] - 17s 169ms/step - loss: 0.2050 - acc: 0.9215 - val_loss: 0.2304 - val_acc: 0.9310\n",
            "Epoch 94/100\n",
            "100/100 [==============================] - 17s 170ms/step - loss: 0.1807 - acc: 0.9265 - val_loss: 0.0429 - val_acc: 0.9340\n",
            "Epoch 95/100\n",
            "100/100 [==============================] - 17s 170ms/step - loss: 0.1880 - acc: 0.9225 - val_loss: 0.1066 - val_acc: 0.9340\n",
            "Epoch 96/100\n",
            "100/100 [==============================] - 17s 169ms/step - loss: 0.1878 - acc: 0.9205 - val_loss: 0.1613 - val_acc: 0.9290\n",
            "Epoch 97/100\n",
            "100/100 [==============================] - 17s 169ms/step - loss: 0.1928 - acc: 0.9165 - val_loss: 0.0358 - val_acc: 0.9380\n",
            "Epoch 98/100\n",
            "100/100 [==============================] - 17s 171ms/step - loss: 0.1795 - acc: 0.9280 - val_loss: 0.2102 - val_acc: 0.9350\n",
            "Epoch 99/100\n",
            "100/100 [==============================] - 17s 170ms/step - loss: 0.1908 - acc: 0.9285 - val_loss: 0.2413 - val_acc: 0.9310\n",
            "Epoch 100/100\n",
            "100/100 [==============================] - 17s 169ms/step - loss: 0.1913 - acc: 0.9250 - val_loss: 0.2893 - val_acc: 0.9310\n"
          ],
          "name": "stdout"
        }
      ]
    },
    {
      "cell_type": "markdown",
      "metadata": {
        "id": "eVBQgh5M-Rtz",
        "colab_type": "text"
      },
      "source": [
        "## Display learning curves during fine-tuning"
      ]
    },
    {
      "cell_type": "markdown",
      "metadata": {
        "id": "THNhu1FLm_z0",
        "colab_type": "text"
      },
      "source": [
        "To display the data, we shall curve the function by utilizing the function \"smooth_curve,\" provided in chapter 5.3 of \"Deep Learning with Python.\""
      ]
    },
    {
      "cell_type": "code",
      "metadata": {
        "id": "mbkIw7Ie-NP4",
        "colab_type": "code",
        "outputId": "b9150ba1-862d-4723-d527-69e89f54f8a7",
        "colab": {
          "base_uri": "https://localhost:8080/",
          "height": 545
        }
      },
      "source": [
        "%matplotlib inline\n",
        "\n",
        "import matplotlib.pyplot as plt\n",
        "\n",
        "def smooth_curve(points, factor=0.8):\n",
        "  smoothed_points = []\n",
        "  for point in points:\n",
        "    if smoothed_points:\n",
        "      previous = smoothed_points[-1]\n",
        "      smoothed_points.append(previous * factor + point * (1 - factor))\n",
        "    else:\n",
        "      smoothed_points.append(point)\n",
        "  return smoothed_points\n",
        "\n",
        "acc = history.history['acc']\n",
        "val_acc = history.history['val_acc']\n",
        "\n",
        "loss = history.history['loss']\n",
        "val_loss = history.history['val_loss']\n",
        "\n",
        "epochs = range(1, len(acc) + 1)\n",
        "\n",
        "plt.plot(epochs, smooth_curve(acc), \"bo\", label=\"Smoothed training acc\")\n",
        "plt.plot(epochs, smooth_curve(val_acc), \"b\", label=\"Smoothed validation acc\")\n",
        "plt.title(\"Training and validation accuracy\")\n",
        "plt.legend()\n",
        "plt.figure()\n",
        "plt.plot(epochs, smooth_curve(loss), \"bo\", label=\"Smoothed training loss\")\n",
        "plt.plot(epochs, smooth_curve(val_loss), \"b\", label=\"Smoothed validation loss\")\n",
        "plt.title(\"Training and validation loss\")\n",
        "plt.legend()\n",
        "plt.show()\n",
        "\n",
        "# # training and validation accuracy\n",
        "\n",
        "# plt.plot(epochs, acc, 'bo', label='training acc')\n",
        "# plt.plot(epochs, val_acc, 'b', label='validation acc')\n",
        "# plt.title('training and validation accuracy')\n",
        "# plt.legend()\n",
        "\n",
        "# plt.figure()\n",
        "\n",
        "# # training and validation loss\n",
        "\n",
        "# plt.plot(epochs, loss, 'bo', label='training loss')\n",
        "# plt.plot(epochs, val_loss, 'b', label='validation loss')\n",
        "# plt.title('training and validation loss')\n",
        "# plt.legend()\n",
        "\n",
        "plt.show()"
      ],
      "execution_count": 34,
      "outputs": [
        {
          "output_type": "display_data",
          "data": {
            "image/png": "[encoded data removed]",
            "text/plain": [
              "<Figure size 432x288 with 1 Axes>"
            ]
          },
          "metadata": {
            "tags": [],
            "needs_background": "light"
          }
        },
        {
          "output_type": "display_data",
          "data": {
            "image/png": "[encoded data removed]",
            "text/plain": [
              "<Figure size 432x288 with 1 Axes>"
            ]
          },
          "metadata": {
            "tags": [],
            "needs_background": "light"
          }
        }
      ]
    },
    {
      "cell_type": "markdown",
      "metadata": {
        "id": "obQi6N4ZShdi",
        "colab_type": "text"
      },
      "source": [
        "This looks like overfitting. I should try  adding dropout for the densely connected layer."
      ]
    },
    {
      "cell_type": "markdown",
      "metadata": {
        "id": "he3Nw6TOJwjx",
        "colab_type": "text"
      },
      "source": [
        "## Print out validation loss and accuracy"
      ]
    },
    {
      "cell_type": "code",
      "metadata": {
        "id": "SVQtrk7uJdhl",
        "colab_type": "code",
        "colab": {}
      },
      "source": [
        "val_loss, val_acc = model.evaluate_generator(validation_generator, steps=50)"
      ],
      "execution_count": 0,
      "outputs": []
    },
    {
      "cell_type": "code",
      "metadata": {
        "id": "HpdddLi1SUMe",
        "colab_type": "code",
        "outputId": "e601eefe-8088-4f1a-af93-263d8cc0d60d",
        "colab": {
          "base_uri": "https://localhost:8080/",
          "height": 53
        }
      },
      "source": [
        "print(\"Validation loss:\", val_loss)\n",
        "print(\"Validation accuracy:\", val_acc)"
      ],
      "execution_count": 36,
      "outputs": [
        {
          "output_type": "stream",
          "text": [
            "Validation loss: 0.13957180082798004\n",
            "Validation accuracy: 0.9309999942779541\n"
          ],
          "name": "stdout"
        }
      ]
    },
    {
      "cell_type": "markdown",
      "metadata": {
        "id": "oW5FU4GcDcdI",
        "colab_type": "text"
      },
      "source": [
        ""
      ]
    },
    {
      "cell_type": "markdown",
      "metadata": {
        "id": "7Ww756WToby8",
        "colab_type": "text"
      },
      "source": [
        "## Save the model"
      ]
    },
    {
      "cell_type": "code",
      "metadata": {
        "id": "0lTUpUdwobKW",
        "colab_type": "code",
        "colab": {}
      },
      "source": [
        "model_fname = 'cats_and_dogs_small_4.h5' \n",
        "model.save(model_fname)"
      ],
      "execution_count": 0,
      "outputs": []
    },
    {
      "cell_type": "code",
      "metadata": {
        "id": "YhEoI8ZTok-X",
        "colab_type": "code",
        "colab": {
          "base_uri": "https://localhost:8080/",
          "height": 17
        },
        "outputId": "49068656-81b0-470b-ad17-f02e07c501c1"
      },
      "source": [
        "from google.colab import files\n",
        "\n",
        "with open(model_fname, 'r') as f:\n",
        "  files.download(model_fname)"
      ],
      "execution_count": 0,
      "outputs": [
        {
          "output_type": "stream",
          "text": [
            "----------------------------------------\n",
            "Exception happened during processing of request from ('::ffff:127.0.0.1', 58850, 0, 0)\n",
            "Traceback (most recent call last):\n",
            "  File \"/usr/lib/python3.6/socketserver.py\", line 320, in _handle_request_noblock\n",
            "    self.process_request(request, client_address)\n",
            "  File \"/usr/lib/python3.6/socketserver.py\", line 351, in process_request\n",
            "    self.finish_request(request, client_address)\n",
            "  File \"/usr/lib/python3.6/socketserver.py\", line 364, in finish_request\n",
            "    self.RequestHandlerClass(request, client_address, self)\n",
            "  File \"/usr/lib/python3.6/socketserver.py\", line 724, in __init__\n",
            "    self.handle()\n",
            "  File \"/usr/lib/python3.6/http/server.py\", line 418, in handle\n",
            "    self.handle_one_request()\n",
            "  File \"/usr/lib/python3.6/http/server.py\", line 406, in handle_one_request\n",
            "    method()\n",
            "  File \"/usr/lib/python3.6/http/server.py\", line 639, in do_GET\n",
            "    self.copyfile(f, self.wfile)\n",
            "  File \"/usr/lib/python3.6/http/server.py\", line 800, in copyfile\n",
            "    shutil.copyfileobj(source, outputfile)\n",
            "  File \"/usr/lib/python3.6/shutil.py\", line 82, in copyfileobj\n",
            "    fdst.write(buf)\n",
            "  File \"/usr/lib/python3.6/socketserver.py\", line 803, in write\n",
            "    self._sock.sendall(b)\n",
            "ConnectionResetError: [Errno 104] Connection reset by peer\n",
            "----------------------------------------\n"
          ],
          "name": "stderr"
        }
      ]
    }
  ]
}